{
 "cells": [
  {
   "cell_type": "code",
   "execution_count": 1,
   "metadata": {
    "_cell_guid": "b1076dfc-b9ad-4769-8c92-a6c4dae69d19",
    "_uuid": "8f2839f25d086af736a60e9eeb907d3b93b6e0e5",
    "colab": {},
    "colab_type": "code",
    "id": "U2D2gTdJVp90"
   },
   "outputs": [],
   "source": [
    "import numpy as np\n",
    "import pandas as pd\n",
    "import seaborn as sns\n",
    "import matplotlib.pyplot as plt\n",
    "from collections import Counter\n",
    "import itertools\n",
    "import collections"
   ]
  },
  {
   "cell_type": "code",
   "execution_count": 2,
   "metadata": {
    "_cell_guid": "79c7e3d0-c299-4dcb-8224-4455121ee9b0",
    "_uuid": "d629ff2d2480ee46fbb7e2d37f6b5fab8052498a",
    "colab": {},
    "colab_type": "code",
    "id": "oyGfxL3eVp9-"
   },
   "outputs": [
    {
     "data": {
      "text/html": [
       "<div>\n",
       "<style scoped>\n",
       "    .dataframe tbody tr th:only-of-type {\n",
       "        vertical-align: middle;\n",
       "    }\n",
       "\n",
       "    .dataframe tbody tr th {\n",
       "        vertical-align: top;\n",
       "    }\n",
       "\n",
       "    .dataframe thead th {\n",
       "        text-align: right;\n",
       "    }\n",
       "</style>\n",
       "<table border=\"1\" class=\"dataframe\">\n",
       "  <thead>\n",
       "    <tr style=\"text-align: right;\">\n",
       "      <th></th>\n",
       "      <th>imdb_id</th>\n",
       "      <th>budget</th>\n",
       "      <th>revenue</th>\n",
       "      <th>original_title</th>\n",
       "      <th>cast</th>\n",
       "      <th>director</th>\n",
       "      <th>tagline</th>\n",
       "      <th>overview</th>\n",
       "      <th>runtime</th>\n",
       "      <th>genres</th>\n",
       "      <th>production_companies</th>\n",
       "      <th>release_date</th>\n",
       "      <th>vote_average</th>\n",
       "      <th>release_year</th>\n",
       "    </tr>\n",
       "  </thead>\n",
       "  <tbody>\n",
       "    <tr>\n",
       "      <th>1560</th>\n",
       "      <td>tt0304141</td>\n",
       "      <td>130000000</td>\n",
       "      <td>789804554</td>\n",
       "      <td>Harry Potter and the Prisoner of Azkaban</td>\n",
       "      <td>Daniel Radcliffe|Rupert Grint|Emma Watson|Gary...</td>\n",
       "      <td>Alfonso CuarÃ³n</td>\n",
       "      <td>Something wicked this way comes.</td>\n",
       "      <td>Harry, Ron and Hermione return to Hogwarts for...</td>\n",
       "      <td>141</td>\n",
       "      <td>Adventure|Fantasy|Family</td>\n",
       "      <td>1492 Pictures|Warner Bros.|Heyday Films|P of A...</td>\n",
       "      <td>5/31/2004</td>\n",
       "      <td>7.4</td>\n",
       "      <td>2004</td>\n",
       "    </tr>\n",
       "    <tr>\n",
       "      <th>472</th>\n",
       "      <td>tt1212419</td>\n",
       "      <td>50000000</td>\n",
       "      <td>105197635</td>\n",
       "      <td>Hereafter</td>\n",
       "      <td>Matt Damon|Bryce Dallas Howard|George McLaren|...</td>\n",
       "      <td>Clint Eastwood</td>\n",
       "      <td>Touched by death. Changed by life.</td>\n",
       "      <td>A supernatural thriller centered on three peop...</td>\n",
       "      <td>129</td>\n",
       "      <td>Drama|Fantasy</td>\n",
       "      <td>Amblin Entertainment|Malpaso Productions|Warne...</td>\n",
       "      <td>10/15/2010</td>\n",
       "      <td>5.5</td>\n",
       "      <td>2010</td>\n",
       "    </tr>\n",
       "    <tr>\n",
       "      <th>1764</th>\n",
       "      <td>tt0463998</td>\n",
       "      <td>21000000</td>\n",
       "      <td>41170784</td>\n",
       "      <td>Freedom Writers</td>\n",
       "      <td>Hilary Swank|Scott Glenn|Imelda Staunton|Patri...</td>\n",
       "      <td>Richard LaGravenese</td>\n",
       "      <td>Their story. Their world. Their future.</td>\n",
       "      <td>A young teacher inspires her class of at-risk ...</td>\n",
       "      <td>123</td>\n",
       "      <td>Crime|Drama</td>\n",
       "      <td>Double Feature Films|Jersey Films|Kernos Filmp...</td>\n",
       "      <td>1/5/2007</td>\n",
       "      <td>7.5</td>\n",
       "      <td>2007</td>\n",
       "    </tr>\n",
       "    <tr>\n",
       "      <th>1887</th>\n",
       "      <td>tt0162983</td>\n",
       "      <td>40000000</td>\n",
       "      <td>36037909</td>\n",
       "      <td>Hanging Up</td>\n",
       "      <td>Meg Ryan|Diane Keaton|Lisa Kudrow|Walter Matth...</td>\n",
       "      <td>Diane Keaton</td>\n",
       "      <td>Every family has a few hang-ups.</td>\n",
       "      <td>A trio of sisters bond over their ambivalence ...</td>\n",
       "      <td>94</td>\n",
       "      <td>Comedy|Drama</td>\n",
       "      <td>Laurence Mark Productions|Columbia Pictures Co...</td>\n",
       "      <td>2/16/2000</td>\n",
       "      <td>5.2</td>\n",
       "      <td>2000</td>\n",
       "    </tr>\n",
       "    <tr>\n",
       "      <th>93</th>\n",
       "      <td>tt2268016</td>\n",
       "      <td>14800000</td>\n",
       "      <td>122413057</td>\n",
       "      <td>Magic Mike XXL</td>\n",
       "      <td>Channing Tatum|Matt Bomer|Joe Manganiello|Kevi...</td>\n",
       "      <td>Gregory Jacobs</td>\n",
       "      <td>Back to the grind.</td>\n",
       "      <td>Three years after Mike bowed out of the stripp...</td>\n",
       "      <td>115</td>\n",
       "      <td>Comedy|Drama|Music</td>\n",
       "      <td>Warner Bros.|Iron Horse Entertainment (II)</td>\n",
       "      <td>7/1/2015</td>\n",
       "      <td>6.3</td>\n",
       "      <td>2015</td>\n",
       "    </tr>\n",
       "  </tbody>\n",
       "</table>\n",
       "</div>"
      ],
      "text/plain": [
       "        imdb_id     budget    revenue  \\\n",
       "1560  tt0304141  130000000  789804554   \n",
       "472   tt1212419   50000000  105197635   \n",
       "1764  tt0463998   21000000   41170784   \n",
       "1887  tt0162983   40000000   36037909   \n",
       "93    tt2268016   14800000  122413057   \n",
       "\n",
       "                                original_title  \\\n",
       "1560  Harry Potter and the Prisoner of Azkaban   \n",
       "472                                  Hereafter   \n",
       "1764                           Freedom Writers   \n",
       "1887                                Hanging Up   \n",
       "93                              Magic Mike XXL   \n",
       "\n",
       "                                                   cast             director  \\\n",
       "1560  Daniel Radcliffe|Rupert Grint|Emma Watson|Gary...      Alfonso CuarÃ³n   \n",
       "472   Matt Damon|Bryce Dallas Howard|George McLaren|...       Clint Eastwood   \n",
       "1764  Hilary Swank|Scott Glenn|Imelda Staunton|Patri...  Richard LaGravenese   \n",
       "1887  Meg Ryan|Diane Keaton|Lisa Kudrow|Walter Matth...         Diane Keaton   \n",
       "93    Channing Tatum|Matt Bomer|Joe Manganiello|Kevi...       Gregory Jacobs   \n",
       "\n",
       "                                      tagline  \\\n",
       "1560         Something wicked this way comes.   \n",
       "472        Touched by death. Changed by life.   \n",
       "1764  Their story. Their world. Their future.   \n",
       "1887         Every family has a few hang-ups.   \n",
       "93                         Back to the grind.   \n",
       "\n",
       "                                               overview  runtime  \\\n",
       "1560  Harry, Ron and Hermione return to Hogwarts for...      141   \n",
       "472   A supernatural thriller centered on three peop...      129   \n",
       "1764  A young teacher inspires her class of at-risk ...      123   \n",
       "1887  A trio of sisters bond over their ambivalence ...       94   \n",
       "93    Three years after Mike bowed out of the stripp...      115   \n",
       "\n",
       "                        genres  \\\n",
       "1560  Adventure|Fantasy|Family   \n",
       "472              Drama|Fantasy   \n",
       "1764               Crime|Drama   \n",
       "1887              Comedy|Drama   \n",
       "93          Comedy|Drama|Music   \n",
       "\n",
       "                                   production_companies release_date  \\\n",
       "1560  1492 Pictures|Warner Bros.|Heyday Films|P of A...    5/31/2004   \n",
       "472   Amblin Entertainment|Malpaso Productions|Warne...   10/15/2010   \n",
       "1764  Double Feature Films|Jersey Films|Kernos Filmp...     1/5/2007   \n",
       "1887  Laurence Mark Productions|Columbia Pictures Co...    2/16/2000   \n",
       "93           Warner Bros.|Iron Horse Entertainment (II)     7/1/2015   \n",
       "\n",
       "      vote_average  release_year  \n",
       "1560           7.4          2004  \n",
       "472            5.5          2010  \n",
       "1764           7.5          2007  \n",
       "1887           5.2          2000  \n",
       "93             6.3          2015  "
      ]
     },
     "execution_count": 2,
     "metadata": {},
     "output_type": "execute_result"
    }
   ],
   "source": [
    "data = pd.read_csv('movie_bd_v5.csv')\n",
    "data.sample(5)"
   ]
  },
  {
   "cell_type": "code",
   "execution_count": 3,
   "metadata": {
    "colab": {},
    "colab_type": "code",
    "id": "CoYUnagMVp-C"
   },
   "outputs": [
    {
     "data": {
      "text/html": [
       "<div>\n",
       "<style scoped>\n",
       "    .dataframe tbody tr th:only-of-type {\n",
       "        vertical-align: middle;\n",
       "    }\n",
       "\n",
       "    .dataframe tbody tr th {\n",
       "        vertical-align: top;\n",
       "    }\n",
       "\n",
       "    .dataframe thead th {\n",
       "        text-align: right;\n",
       "    }\n",
       "</style>\n",
       "<table border=\"1\" class=\"dataframe\">\n",
       "  <thead>\n",
       "    <tr style=\"text-align: right;\">\n",
       "      <th></th>\n",
       "      <th>budget</th>\n",
       "      <th>revenue</th>\n",
       "      <th>runtime</th>\n",
       "      <th>vote_average</th>\n",
       "      <th>release_year</th>\n",
       "    </tr>\n",
       "  </thead>\n",
       "  <tbody>\n",
       "    <tr>\n",
       "      <th>count</th>\n",
       "      <td>1.889000e+03</td>\n",
       "      <td>1.889000e+03</td>\n",
       "      <td>1889.000000</td>\n",
       "      <td>1889.000000</td>\n",
       "      <td>1889.000000</td>\n",
       "    </tr>\n",
       "    <tr>\n",
       "      <th>mean</th>\n",
       "      <td>5.431083e+07</td>\n",
       "      <td>1.553653e+08</td>\n",
       "      <td>109.658549</td>\n",
       "      <td>6.140762</td>\n",
       "      <td>2007.860773</td>\n",
       "    </tr>\n",
       "    <tr>\n",
       "      <th>std</th>\n",
       "      <td>4.858721e+07</td>\n",
       "      <td>2.146698e+08</td>\n",
       "      <td>18.017041</td>\n",
       "      <td>0.764763</td>\n",
       "      <td>4.468841</td>\n",
       "    </tr>\n",
       "    <tr>\n",
       "      <th>min</th>\n",
       "      <td>5.000000e+06</td>\n",
       "      <td>2.033165e+06</td>\n",
       "      <td>63.000000</td>\n",
       "      <td>3.300000</td>\n",
       "      <td>2000.000000</td>\n",
       "    </tr>\n",
       "    <tr>\n",
       "      <th>25%</th>\n",
       "      <td>2.000000e+07</td>\n",
       "      <td>3.456058e+07</td>\n",
       "      <td>97.000000</td>\n",
       "      <td>5.600000</td>\n",
       "      <td>2004.000000</td>\n",
       "    </tr>\n",
       "    <tr>\n",
       "      <th>50%</th>\n",
       "      <td>3.800000e+07</td>\n",
       "      <td>8.361541e+07</td>\n",
       "      <td>107.000000</td>\n",
       "      <td>6.100000</td>\n",
       "      <td>2008.000000</td>\n",
       "    </tr>\n",
       "    <tr>\n",
       "      <th>75%</th>\n",
       "      <td>7.200000e+07</td>\n",
       "      <td>1.782626e+08</td>\n",
       "      <td>120.000000</td>\n",
       "      <td>6.600000</td>\n",
       "      <td>2012.000000</td>\n",
       "    </tr>\n",
       "    <tr>\n",
       "      <th>max</th>\n",
       "      <td>3.800000e+08</td>\n",
       "      <td>2.781506e+09</td>\n",
       "      <td>214.000000</td>\n",
       "      <td>8.100000</td>\n",
       "      <td>2015.000000</td>\n",
       "    </tr>\n",
       "  </tbody>\n",
       "</table>\n",
       "</div>"
      ],
      "text/plain": [
       "             budget       revenue      runtime  vote_average  release_year\n",
       "count  1.889000e+03  1.889000e+03  1889.000000   1889.000000   1889.000000\n",
       "mean   5.431083e+07  1.553653e+08   109.658549      6.140762   2007.860773\n",
       "std    4.858721e+07  2.146698e+08    18.017041      0.764763      4.468841\n",
       "min    5.000000e+06  2.033165e+06    63.000000      3.300000   2000.000000\n",
       "25%    2.000000e+07  3.456058e+07    97.000000      5.600000   2004.000000\n",
       "50%    3.800000e+07  8.361541e+07   107.000000      6.100000   2008.000000\n",
       "75%    7.200000e+07  1.782626e+08   120.000000      6.600000   2012.000000\n",
       "max    3.800000e+08  2.781506e+09   214.000000      8.100000   2015.000000"
      ]
     },
     "execution_count": 3,
     "metadata": {},
     "output_type": "execute_result"
    }
   ],
   "source": [
    "data.describe()"
   ]
  },
  {
   "cell_type": "markdown",
   "metadata": {
    "colab_type": "text",
    "id": "DTIt7ezGVp-G"
   },
   "source": [
    "# Предобработка"
   ]
  },
  {
   "cell_type": "code",
   "execution_count": 4,
   "metadata": {
    "colab": {},
    "colab_type": "code",
    "id": "jNb40DwKVp-H"
   },
   "outputs": [
    {
     "data": {
      "text/html": [
       "<div>\n",
       "<style scoped>\n",
       "    .dataframe tbody tr th:only-of-type {\n",
       "        vertical-align: middle;\n",
       "    }\n",
       "\n",
       "    .dataframe tbody tr th {\n",
       "        vertical-align: top;\n",
       "    }\n",
       "\n",
       "    .dataframe thead th {\n",
       "        text-align: right;\n",
       "    }\n",
       "</style>\n",
       "<table border=\"1\" class=\"dataframe\">\n",
       "  <thead>\n",
       "    <tr style=\"text-align: right;\">\n",
       "      <th></th>\n",
       "      <th>imdb_id</th>\n",
       "      <th>budget</th>\n",
       "      <th>revenue</th>\n",
       "      <th>original_title</th>\n",
       "      <th>cast</th>\n",
       "      <th>director</th>\n",
       "      <th>tagline</th>\n",
       "      <th>overview</th>\n",
       "      <th>runtime</th>\n",
       "      <th>genres</th>\n",
       "      <th>production_companies</th>\n",
       "      <th>release_date</th>\n",
       "      <th>vote_average</th>\n",
       "      <th>release_year</th>\n",
       "      <th>profit</th>\n",
       "      <th>release_month</th>\n",
       "      <th>release_season</th>\n",
       "    </tr>\n",
       "  </thead>\n",
       "  <tbody>\n",
       "    <tr>\n",
       "      <th>0</th>\n",
       "      <td>tt0369610</td>\n",
       "      <td>150000000</td>\n",
       "      <td>1513528810</td>\n",
       "      <td>Jurassic World</td>\n",
       "      <td>Chris Pratt|Bryce Dallas Howard|Irrfan Khan|Vi...</td>\n",
       "      <td>Colin Trevorrow</td>\n",
       "      <td>The park is open.</td>\n",
       "      <td>Twenty-two years after the events of Jurassic ...</td>\n",
       "      <td>124</td>\n",
       "      <td>Action|Adventure|Science Fiction|Thriller</td>\n",
       "      <td>Universal Studios|Amblin Entertainment|Legenda...</td>\n",
       "      <td>2015-06-09</td>\n",
       "      <td>6.5</td>\n",
       "      <td>2015</td>\n",
       "      <td>1363528810</td>\n",
       "      <td>6</td>\n",
       "      <td>summer</td>\n",
       "    </tr>\n",
       "    <tr>\n",
       "      <th>1</th>\n",
       "      <td>tt1392190</td>\n",
       "      <td>150000000</td>\n",
       "      <td>378436354</td>\n",
       "      <td>Mad Max: Fury Road</td>\n",
       "      <td>Tom Hardy|Charlize Theron|Hugh Keays-Byrne|Nic...</td>\n",
       "      <td>George Miller</td>\n",
       "      <td>What a Lovely Day.</td>\n",
       "      <td>An apocalyptic story set in the furthest reach...</td>\n",
       "      <td>120</td>\n",
       "      <td>Action|Adventure|Science Fiction|Thriller</td>\n",
       "      <td>Village Roadshow Pictures|Kennedy Miller Produ...</td>\n",
       "      <td>2015-05-13</td>\n",
       "      <td>7.1</td>\n",
       "      <td>2015</td>\n",
       "      <td>228436354</td>\n",
       "      <td>5</td>\n",
       "      <td>spring</td>\n",
       "    </tr>\n",
       "    <tr>\n",
       "      <th>2</th>\n",
       "      <td>tt2908446</td>\n",
       "      <td>110000000</td>\n",
       "      <td>295238201</td>\n",
       "      <td>Insurgent</td>\n",
       "      <td>Shailene Woodley|Theo James|Kate Winslet|Ansel...</td>\n",
       "      <td>Robert Schwentke</td>\n",
       "      <td>One Choice Can Destroy You</td>\n",
       "      <td>Beatrice Prior must confront her inner demons ...</td>\n",
       "      <td>119</td>\n",
       "      <td>Adventure|Science Fiction|Thriller</td>\n",
       "      <td>Summit Entertainment|Mandeville Films|Red Wago...</td>\n",
       "      <td>2015-03-18</td>\n",
       "      <td>6.3</td>\n",
       "      <td>2015</td>\n",
       "      <td>185238201</td>\n",
       "      <td>3</td>\n",
       "      <td>spring</td>\n",
       "    </tr>\n",
       "  </tbody>\n",
       "</table>\n",
       "</div>"
      ],
      "text/plain": [
       "     imdb_id     budget     revenue      original_title  \\\n",
       "0  tt0369610  150000000  1513528810      Jurassic World   \n",
       "1  tt1392190  150000000   378436354  Mad Max: Fury Road   \n",
       "2  tt2908446  110000000   295238201           Insurgent   \n",
       "\n",
       "                                                cast          director  \\\n",
       "0  Chris Pratt|Bryce Dallas Howard|Irrfan Khan|Vi...   Colin Trevorrow   \n",
       "1  Tom Hardy|Charlize Theron|Hugh Keays-Byrne|Nic...     George Miller   \n",
       "2  Shailene Woodley|Theo James|Kate Winslet|Ansel...  Robert Schwentke   \n",
       "\n",
       "                      tagline  \\\n",
       "0           The park is open.   \n",
       "1          What a Lovely Day.   \n",
       "2  One Choice Can Destroy You   \n",
       "\n",
       "                                            overview  runtime  \\\n",
       "0  Twenty-two years after the events of Jurassic ...      124   \n",
       "1  An apocalyptic story set in the furthest reach...      120   \n",
       "2  Beatrice Prior must confront her inner demons ...      119   \n",
       "\n",
       "                                      genres  \\\n",
       "0  Action|Adventure|Science Fiction|Thriller   \n",
       "1  Action|Adventure|Science Fiction|Thriller   \n",
       "2         Adventure|Science Fiction|Thriller   \n",
       "\n",
       "                                production_companies release_date  \\\n",
       "0  Universal Studios|Amblin Entertainment|Legenda...   2015-06-09   \n",
       "1  Village Roadshow Pictures|Kennedy Miller Produ...   2015-05-13   \n",
       "2  Summit Entertainment|Mandeville Films|Red Wago...   2015-03-18   \n",
       "\n",
       "   vote_average  release_year      profit  release_month release_season  \n",
       "0           6.5          2015  1363528810              6         summer  \n",
       "1           7.1          2015   228436354              5         spring  \n",
       "2           6.3          2015   185238201              3         spring  "
      ]
     },
     "execution_count": 4,
     "metadata": {},
     "output_type": "execute_result"
    }
   ],
   "source": [
    "answers = {} # создадим словарь для ответов\n",
    "\n",
    "# тут другие ваши предобработки колонок например:\n",
    "\n",
    "#the time given in the dataset is in string format.\n",
    "#So we need to change this in datetime format\n",
    "# ...\n",
    "\n",
    "def get_season(month):\n",
    "#функция определяет сезон по номеру месяца в году\n",
    "\n",
    "    month = int(month)\n",
    "    \n",
    "    if month in (3,4,5):\n",
    "        return 'spring'\n",
    "    elif month in (6,7,8):\n",
    "        return 'summer'\n",
    "    elif month in (9,10,11):\n",
    "        return 'autumn'\n",
    "    elif month in (12,1,2):\n",
    "        return 'winter'\n",
    "    else:\n",
    "        return '#error'\n",
    "\n",
    "    \n",
    "#преобразуем столбец с датой в тип \"дата\"\n",
    "data.release_date = pd.to_datetime(data.release_date)\n",
    "\n",
    "#добавляем столбцы \"прибыль\", \"месяц релиза\", \"сезон релиза\"\n",
    "data['profit'] = data['revenue'] - data['budget']\n",
    "data['release_month'] = data.release_date.apply(lambda x: x.month)\n",
    "data['release_season'] = data.release_month.apply(get_season)\n",
    "\n",
    "data.head(3)"
   ]
  },
  {
   "cell_type": "code",
   "execution_count": 5,
   "metadata": {},
   "outputs": [
    {
     "name": "stdout",
     "output_type": "stream",
     "text": [
      "<class 'pandas.core.frame.DataFrame'>\n",
      "RangeIndex: 1889 entries, 0 to 1888\n",
      "Data columns (total 17 columns):\n",
      " #   Column                Non-Null Count  Dtype         \n",
      "---  ------                --------------  -----         \n",
      " 0   imdb_id               1889 non-null   object        \n",
      " 1   budget                1889 non-null   int64         \n",
      " 2   revenue               1889 non-null   int64         \n",
      " 3   original_title        1889 non-null   object        \n",
      " 4   cast                  1889 non-null   object        \n",
      " 5   director              1889 non-null   object        \n",
      " 6   tagline               1889 non-null   object        \n",
      " 7   overview              1889 non-null   object        \n",
      " 8   runtime               1889 non-null   int64         \n",
      " 9   genres                1889 non-null   object        \n",
      " 10  production_companies  1889 non-null   object        \n",
      " 11  release_date          1889 non-null   datetime64[ns]\n",
      " 12  vote_average          1889 non-null   float64       \n",
      " 13  release_year          1889 non-null   int64         \n",
      " 14  profit                1889 non-null   int64         \n",
      " 15  release_month         1889 non-null   int64         \n",
      " 16  release_season        1889 non-null   object        \n",
      "dtypes: datetime64[ns](1), float64(1), int64(6), object(9)\n",
      "memory usage: 251.0+ KB\n"
     ]
    }
   ],
   "source": [
    "data.info()"
   ]
  },
  {
   "cell_type": "markdown",
   "metadata": {
    "colab_type": "text",
    "id": "YxZaH-nPVp-L"
   },
   "source": [
    "# 1. У какого фильма из списка самый большой бюджет?"
   ]
  },
  {
   "cell_type": "markdown",
   "metadata": {
    "colab_type": "text",
    "id": "Nd-G5gX6Vp-M"
   },
   "source": [
    "Использовать варианты ответов в коде решения запрещено.    \n",
    "Вы думаете и в жизни у вас будут варианты ответов?)"
   ]
  },
  {
   "cell_type": "code",
   "execution_count": 6,
   "metadata": {
    "colab": {},
    "colab_type": "code",
    "id": "uVnXAY5RVp-O"
   },
   "outputs": [],
   "source": [
    "# в словарь вставляем номер вопроса и ваш ответ на него\n",
    "# Пример: \n",
    "answers['1'] = '2. Spider-Man 3 (tt0413300)'\n",
    "# запишите свой вариант ответа\n",
    "answers['1'] = 'Pirates of the Caribbean: On Stranger Tides (tt1298650)'\n",
    "# если ответили верно, можете добавить комментарий со значком \"+\"\n",
    "# +"
   ]
  },
  {
   "cell_type": "code",
   "execution_count": 7,
   "metadata": {
    "colab": {},
    "colab_type": "code",
    "id": "dZwb3m28Vp-S"
   },
   "outputs": [
    {
     "data": {
      "text/html": [
       "<div>\n",
       "<style scoped>\n",
       "    .dataframe tbody tr th:only-of-type {\n",
       "        vertical-align: middle;\n",
       "    }\n",
       "\n",
       "    .dataframe tbody tr th {\n",
       "        vertical-align: top;\n",
       "    }\n",
       "\n",
       "    .dataframe thead th {\n",
       "        text-align: right;\n",
       "    }\n",
       "</style>\n",
       "<table border=\"1\" class=\"dataframe\">\n",
       "  <thead>\n",
       "    <tr style=\"text-align: right;\">\n",
       "      <th></th>\n",
       "      <th>original_title</th>\n",
       "      <th>imdb_id</th>\n",
       "    </tr>\n",
       "  </thead>\n",
       "  <tbody>\n",
       "    <tr>\n",
       "      <th>723</th>\n",
       "      <td>Pirates of the Caribbean: On Stranger Tides</td>\n",
       "      <td>tt1298650</td>\n",
       "    </tr>\n",
       "  </tbody>\n",
       "</table>\n",
       "</div>"
      ],
      "text/plain": [
       "                                  original_title    imdb_id\n",
       "723  Pirates of the Caribbean: On Stranger Tides  tt1298650"
      ]
     },
     "execution_count": 7,
     "metadata": {},
     "output_type": "execute_result"
    }
   ],
   "source": [
    "# тут пишем ваш код для решения данного вопроса:\n",
    "data[data.budget == data.budget.max()][['original_title', 'imdb_id']]"
   ]
  },
  {
   "cell_type": "markdown",
   "metadata": {
    "colab_type": "text",
    "id": "K7L3nbRXVp-X"
   },
   "source": [
    "ВАРИАНТ 2"
   ]
  },
  {
   "cell_type": "code",
   "execution_count": 8,
   "metadata": {
    "colab": {},
    "colab_type": "code",
    "id": "OGaoQI7rVp-X"
   },
   "outputs": [
    {
     "data": {
      "text/html": [
       "<div>\n",
       "<style scoped>\n",
       "    .dataframe tbody tr th:only-of-type {\n",
       "        vertical-align: middle;\n",
       "    }\n",
       "\n",
       "    .dataframe tbody tr th {\n",
       "        vertical-align: top;\n",
       "    }\n",
       "\n",
       "    .dataframe thead th {\n",
       "        text-align: right;\n",
       "    }\n",
       "</style>\n",
       "<table border=\"1\" class=\"dataframe\">\n",
       "  <thead>\n",
       "    <tr style=\"text-align: right;\">\n",
       "      <th></th>\n",
       "      <th>original_title</th>\n",
       "      <th>imdb_id</th>\n",
       "    </tr>\n",
       "  </thead>\n",
       "  <tbody>\n",
       "    <tr>\n",
       "      <th>723</th>\n",
       "      <td>Pirates of the Caribbean: On Stranger Tides</td>\n",
       "      <td>tt1298650</td>\n",
       "    </tr>\n",
       "  </tbody>\n",
       "</table>\n",
       "</div>"
      ],
      "text/plain": [
       "                                  original_title    imdb_id\n",
       "723  Pirates of the Caribbean: On Stranger Tides  tt1298650"
      ]
     },
     "execution_count": 8,
     "metadata": {},
     "output_type": "execute_result"
    }
   ],
   "source": [
    "# можно добавлять разные варианты решения\n",
    "data.sort_values('budget', ascending = False).head(1)[['original_title', 'imdb_id']]"
   ]
  },
  {
   "cell_type": "markdown",
   "metadata": {
    "colab_type": "text",
    "id": "FNRbbI3vVp-c"
   },
   "source": [
    "# 2. Какой из фильмов самый длительный (в минутах)?"
   ]
  },
  {
   "cell_type": "code",
   "execution_count": 9,
   "metadata": {
    "colab": {},
    "colab_type": "code",
    "id": "vHAoEXNTVp-d"
   },
   "outputs": [
    {
     "data": {
      "text/plain": [
       "'Gods and Generals'"
      ]
     },
     "execution_count": 9,
     "metadata": {},
     "output_type": "execute_result"
    }
   ],
   "source": [
    "# думаю логику работы с этим словарем вы уже поняли, \n",
    "# по этому не буду больше его дублировать\n",
    "answers['2'] = data[data.runtime == data.runtime.max()].original_title.values[0]\n",
    "answers['2']"
   ]
  },
  {
   "cell_type": "code",
   "execution_count": 10,
   "metadata": {},
   "outputs": [
    {
     "data": {
      "text/plain": [
       "'Gods and Generals'"
      ]
     },
     "execution_count": 10,
     "metadata": {},
     "output_type": "execute_result"
    }
   ],
   "source": [
    "#решение2\n",
    "\n",
    "answers['2'] = data.sort_values('runtime',ascending = False).head(1).original_title.values[0]\n",
    "answers['2']"
   ]
  },
  {
   "cell_type": "markdown",
   "metadata": {
    "colab_type": "text",
    "id": "bapLlpW8Vp-k"
   },
   "source": [
    "# 3. Какой из фильмов самый короткий (в минутах)?\n",
    "\n",
    "\n",
    "\n"
   ]
  },
  {
   "cell_type": "code",
   "execution_count": 11,
   "metadata": {},
   "outputs": [
    {
     "data": {
      "text/plain": [
       "'Winnie the Pooh'"
      ]
     },
     "execution_count": 11,
     "metadata": {},
     "output_type": "execute_result"
    }
   ],
   "source": [
    "#решение 1\n",
    "\n",
    "answers['3'] = data.sort_values('runtime').head(1).original_title.values[0]\n",
    "answers['3']"
   ]
  },
  {
   "cell_type": "code",
   "execution_count": 12,
   "metadata": {},
   "outputs": [
    {
     "data": {
      "text/plain": [
       "'Winnie the Pooh'"
      ]
     },
     "execution_count": 12,
     "metadata": {},
     "output_type": "execute_result"
    }
   ],
   "source": [
    "#решение 2\n",
    "\n",
    "answers['3'] = data[data.runtime == data.runtime.min()].original_title.values[0]\n",
    "answers['3']"
   ]
  },
  {
   "cell_type": "markdown",
   "metadata": {
    "colab_type": "text",
    "id": "TfQbxbfNVp-p"
   },
   "source": [
    "# 4. Какова средняя длительность фильмов?\n"
   ]
  },
  {
   "cell_type": "code",
   "execution_count": 13,
   "metadata": {},
   "outputs": [
    {
     "data": {
      "text/plain": [
       "109.6585494970884"
      ]
     },
     "execution_count": 13,
     "metadata": {},
     "output_type": "execute_result"
    }
   ],
   "source": [
    "answers['4'] = data.runtime.mean()\n",
    "answers['4']"
   ]
  },
  {
   "cell_type": "markdown",
   "metadata": {
    "colab_type": "text",
    "id": "r5TvbnT_Vp-u"
   },
   "source": [
    "# 5. Каково медианное значение длительности фильмов? "
   ]
  },
  {
   "cell_type": "code",
   "execution_count": 14,
   "metadata": {
    "colab": {},
    "colab_type": "code",
    "id": "iBROplKnVp-v"
   },
   "outputs": [
    {
     "data": {
      "text/plain": [
       "107.0"
      ]
     },
     "execution_count": 14,
     "metadata": {},
     "output_type": "execute_result"
    }
   ],
   "source": [
    "answers['5'] = data.runtime.median()\n",
    "answers['5']"
   ]
  },
  {
   "cell_type": "markdown",
   "metadata": {
    "colab_type": "text",
    "id": "39P-deDSVp-y"
   },
   "source": [
    "# 6. Какой самый прибыльный фильм?\n",
    "#### Внимание! Здесь и далее под «прибылью» или «убытками» понимается разность между сборами и бюджетом фильма. (прибыль = сборы - бюджет) в нашем датасете это будет (profit = revenue - budget) "
   ]
  },
  {
   "cell_type": "code",
   "execution_count": 15,
   "metadata": {
    "colab": {},
    "colab_type": "code",
    "id": "UYZh4T9WVp-y"
   },
   "outputs": [],
   "source": [
    "# лучше код получения столбца profit вынести в Предобработку что в начале"
   ]
  },
  {
   "cell_type": "code",
   "execution_count": 16,
   "metadata": {},
   "outputs": [
    {
     "data": {
      "text/plain": [
       "['Avatar', 'tt0499549']"
      ]
     },
     "execution_count": 16,
     "metadata": {},
     "output_type": "execute_result"
    }
   ],
   "source": [
    "#решение1\n",
    "answers['6'] = data.sort_values('profit', ascending = False).head(1).iloc[0,[3,0]].tolist()\n",
    "answers['6']"
   ]
  },
  {
   "cell_type": "code",
   "execution_count": 17,
   "metadata": {},
   "outputs": [
    {
     "data": {
      "text/plain": [
       "['Avatar', 'tt0499549']"
      ]
     },
     "execution_count": 17,
     "metadata": {},
     "output_type": "execute_result"
    }
   ],
   "source": [
    "#решение2\n",
    "answers['6'] = data[data.profit == data.profit.max()].iloc[0,[3,0]].tolist()\n",
    "answers['6']"
   ]
  },
  {
   "cell_type": "markdown",
   "metadata": {
    "colab_type": "text",
    "id": "M99JmIX4Vp-2"
   },
   "source": [
    "# 7. Какой фильм самый убыточный? "
   ]
  },
  {
   "cell_type": "code",
   "execution_count": 18,
   "metadata": {
    "scrolled": true
   },
   "outputs": [
    {
     "data": {
      "text/plain": [
       "['The Lone Ranger', 'tt1210819']"
      ]
     },
     "execution_count": 18,
     "metadata": {},
     "output_type": "execute_result"
    }
   ],
   "source": [
    "#решение1\n",
    "answers['7'] = data.sort_values('profit').head(1).iloc[0,[3,0]].tolist()\n",
    "answers['7']"
   ]
  },
  {
   "cell_type": "code",
   "execution_count": 19,
   "metadata": {},
   "outputs": [
    {
     "data": {
      "text/plain": [
       "['The Lone Ranger', 'tt1210819']"
      ]
     },
     "execution_count": 19,
     "metadata": {},
     "output_type": "execute_result"
    }
   ],
   "source": [
    "#решение2\n",
    "answers['7'] = data[data.profit == data.profit.min()].iloc[0,[3,0]].tolist()\n",
    "answers['7']"
   ]
  },
  {
   "cell_type": "markdown",
   "metadata": {
    "colab_type": "text",
    "id": "wEOM5ERVVp-6"
   },
   "source": [
    "# 8. У скольких фильмов из датасета объем сборов оказался выше бюджета?"
   ]
  },
  {
   "cell_type": "code",
   "execution_count": 20,
   "metadata": {},
   "outputs": [
    {
     "data": {
      "text/plain": [
       "1478"
      ]
     },
     "execution_count": 20,
     "metadata": {},
     "output_type": "execute_result"
    }
   ],
   "source": [
    "#решение1\n",
    "answers['8'] = data[data.revenue > data.budget].imdb_id.count()\n",
    "answers['8']"
   ]
  },
  {
   "cell_type": "code",
   "execution_count": 21,
   "metadata": {
    "scrolled": true
   },
   "outputs": [
    {
     "data": {
      "text/plain": [
       "1478"
      ]
     },
     "execution_count": 21,
     "metadata": {},
     "output_type": "execute_result"
    }
   ],
   "source": [
    "#решение2\n",
    "answers['8'] = data[data.profit > 0].imdb_id.nunique()\n",
    "answers['8']"
   ]
  },
  {
   "cell_type": "code",
   "execution_count": 22,
   "metadata": {},
   "outputs": [
    {
     "data": {
      "text/plain": [
       "1478"
      ]
     },
     "execution_count": 22,
     "metadata": {},
     "output_type": "execute_result"
    }
   ],
   "source": [
    "#решение3\n",
    "answers['8'] = len(data[data.profit > 0])\n",
    "answers['8']"
   ]
  },
  {
   "cell_type": "markdown",
   "metadata": {
    "colab_type": "text",
    "id": "xhpspA9KVp_A"
   },
   "source": [
    "# 9. Какой фильм оказался самым кассовым в 2008 году?"
   ]
  },
  {
   "cell_type": "code",
   "execution_count": 23,
   "metadata": {
    "scrolled": true
   },
   "outputs": [
    {
     "data": {
      "text/plain": [
       "['The Dark Knight', 'tt0468569']"
      ]
     },
     "execution_count": 23,
     "metadata": {},
     "output_type": "execute_result"
    }
   ],
   "source": [
    "#решение1\n",
    "\n",
    "#выберем фильмы 2008 года\n",
    "filtered_data = data[data.release_year == 2008]\n",
    "\n",
    "#вычислим фильм с максимальной прибылью 2008 года\n",
    "answers['9'] = filtered_data[filtered_data.profit == filtered_data.profit.max()].iloc[0,[3,0]].tolist()\n",
    "answers['9']"
   ]
  },
  {
   "cell_type": "code",
   "execution_count": 24,
   "metadata": {},
   "outputs": [
    {
     "data": {
      "text/plain": [
       "['The Dark Knight', 'tt0468569']"
      ]
     },
     "execution_count": 24,
     "metadata": {},
     "output_type": "execute_result"
    }
   ],
   "source": [
    "#решение2\n",
    "\n",
    "#отсортируем фильмы 2008 года по убыванию прибыли\n",
    "sorted_data = data.query('release_year == 2008').sort_values('profit', ascending = False)\n",
    "\n",
    "#вычислим первый фильм\n",
    "answers['9'] = sorted_data.head(1)[['original_title', 'imdb_id']].values[0,[0,1]].tolist()\n",
    "answers['9']"
   ]
  },
  {
   "cell_type": "markdown",
   "metadata": {
    "colab_type": "text",
    "id": "Zi4hDKidVp_F"
   },
   "source": [
    "# 10. Самый убыточный фильм за период с 2012 по 2014 г. (включительно)?\n"
   ]
  },
  {
   "cell_type": "code",
   "execution_count": 25,
   "metadata": {},
   "outputs": [
    {
     "data": {
      "text/plain": [
       "['The Lone Ranger', 'tt1210819']"
      ]
     },
     "execution_count": 25,
     "metadata": {},
     "output_type": "execute_result"
    }
   ],
   "source": [
    "#решение1\n",
    "#определим фильмы за период с 2012 по 2014 год\n",
    "filtered_data = data[data.release_year.between(2012,2014)]\n",
    "\n",
    "#вычислим фильм с минимальной прибылью\n",
    "answers['10'] = filtered_data[filtered_data.profit == filtered_data.profit.min()].iloc[0,[3,0]].tolist()\n",
    "answers['10']"
   ]
  },
  {
   "cell_type": "code",
   "execution_count": 26,
   "metadata": {},
   "outputs": [
    {
     "data": {
      "text/plain": [
       "['The Lone Ranger', 'tt1210819']"
      ]
     },
     "execution_count": 26,
     "metadata": {},
     "output_type": "execute_result"
    }
   ],
   "source": [
    "#решение2\n",
    "\n",
    "#определим фильмы за период с 2012 по 2014 год\n",
    "filtered_data = data[data.release_year.between(2012,2014)]\n",
    "\n",
    "#отсортируем фильмы по увеличению прибыли и вычислим первый фильм\n",
    "answers['10'] = filtered_data.sort_values('profit').head(1).values[0,[3,0]].tolist()\n",
    "answers['10']"
   ]
  },
  {
   "cell_type": "markdown",
   "metadata": {
    "colab_type": "text",
    "id": "EA7Sa9dkVp_I"
   },
   "source": [
    "# 11. Какого жанра фильмов больше всего?"
   ]
  },
  {
   "cell_type": "code",
   "execution_count": 27,
   "metadata": {
    "colab": {},
    "colab_type": "code",
    "id": "zsJAwJ8QVp_J"
   },
   "outputs": [],
   "source": [
    "# эту задачу тоже можно решать разными подходами, попробуй реализовать разные варианты\n",
    "# если будешь добавлять функцию - выноси ее в предобработку что в начале"
   ]
  },
  {
   "cell_type": "markdown",
   "metadata": {
    "colab_type": "text",
    "id": "Ax6g2C8SVp_M"
   },
   "source": [
    "ВАРИАНТ 2"
   ]
  },
  {
   "cell_type": "code",
   "execution_count": 28,
   "metadata": {},
   "outputs": [
    {
     "data": {
      "text/plain": [
       "'Drama'"
      ]
     },
     "execution_count": 28,
     "metadata": {},
     "output_type": "execute_result"
    }
   ],
   "source": [
    "#сначала группируем по \"комбинированным\" жанрам\n",
    "#это сократит количество строк для дальнейшей обработки  \n",
    "grouped_data = data.groupby('genres')['imdb_id'].count() \n",
    "\n",
    "#в цикле проходим полученный датафрейм. Считаем количество фильмов по каждому жанру отдельно\n",
    "count_genres = {}\n",
    "for key,value in grouped_data.items():\n",
    "    \n",
    "    genres = key.split('|')\n",
    "    \n",
    "    for genre in genres:\n",
    "        \n",
    "        if genre in count_genres:\n",
    "            count_genres[genre] += value           \n",
    "        else:\n",
    "            count_genres.setdefault(genre, value)\n",
    "\n",
    "#вычислим жанр с максимальным количеством фильмов в серии, созданной из словаря           \n",
    "answers['11'] = pd.Series(count_genres).sort_values(ascending = False).head(1).index[0]\n",
    "answers['11']"
   ]
  },
  {
   "cell_type": "markdown",
   "metadata": {
    "colab_type": "text",
    "id": "T9_bPWpkVp_Q"
   },
   "source": [
    "# 12. Фильмы какого жанра чаще всего становятся прибыльными? "
   ]
  },
  {
   "cell_type": "code",
   "execution_count": 29,
   "metadata": {},
   "outputs": [
    {
     "data": {
      "text/plain": [
       "'Drama'"
      ]
     },
     "execution_count": 29,
     "metadata": {},
     "output_type": "execute_result"
    }
   ],
   "source": [
    "#сначала группируем по \"комбинированным\" жанрам фильмы, с прибылью больше нуля \n",
    "#это сократит количество строк для дальнейшей обработки  \n",
    "grouped_data = data[data.profit>0].groupby('genres')['imdb_id'].count() \n",
    "\n",
    "#в цикле проходим полученный датафрейм. Считаем количество фильмов по каждому жанру отдельно\n",
    "count_genres = collections.Counter()\n",
    "\n",
    "for key, value in grouped_data.items():\n",
    "    \n",
    "    for genre in key.split('|'):\n",
    "        \n",
    "        count_genres[genre] += value\n",
    "            \n",
    "#вычислим жанр с максимальным количеством фильмов             \n",
    "answers['12'] = pd.Series(count_genres).sort_values(ascending = False).head(1).index[0]\n",
    "answers['12']"
   ]
  },
  {
   "cell_type": "markdown",
   "metadata": {
    "colab_type": "text",
    "id": "0F23bgsDVp_U"
   },
   "source": [
    "# 13. У какого режиссера самые большие суммарные кассовые сбооры?"
   ]
  },
  {
   "cell_type": "code",
   "execution_count": 30,
   "metadata": {},
   "outputs": [
    {
     "data": {
      "text/plain": [
       "'Peter Jackson'"
      ]
     },
     "execution_count": 30,
     "metadata": {},
     "output_type": "execute_result"
    }
   ],
   "source": [
    "answers['13'] = data.groupby('director')['revenue'].sum().sort_values(ascending = False).head(1).index[0]\n",
    "answers['13']"
   ]
  },
  {
   "cell_type": "markdown",
   "metadata": {
    "colab_type": "text",
    "id": "PsYC9FgRVp_a"
   },
   "source": [
    "# 14. Какой режисер снял больше всего фильмов в стиле Action?"
   ]
  },
  {
   "cell_type": "code",
   "execution_count": 31,
   "metadata": {},
   "outputs": [
    {
     "data": {
      "text/plain": [
       "'Robert Rodriguez'"
      ]
     },
     "execution_count": 31,
     "metadata": {},
     "output_type": "execute_result"
    }
   ],
   "source": [
    "#сначала группируем фильмы с жанром Action \"комбинированным\" режиссерам\n",
    "#это сократит количество строк для дальнейшей обработки  \n",
    "grouped_data = data[data.genres.str.contains('Action')]['director'].value_counts() \n",
    "\n",
    "#в цикле проходим полученную серию. Считаем количество фильмов по каждому режиссеру отдельно и заполненяем словарь \n",
    "count_movies = collections.Counter()\n",
    "\n",
    "for key in grouped_data.keys():\n",
    "    \n",
    "    for director in key.split('|'):\n",
    "        count_movies[director] += value           \n",
    "\n",
    "#вычислим режиссера с максимальным количеством фильмов           \n",
    "answers['14'] = pd.Series(count_movies).sort_values(ascending = False).head(1).index[0]\n",
    "answers['14']"
   ]
  },
  {
   "cell_type": "markdown",
   "metadata": {
    "colab_type": "text",
    "id": "PQ0KciD7Vp_f"
   },
   "source": [
    "# 15. Фильмы с каким актером принесли самые высокие кассовые сборы в 2012 году? "
   ]
  },
  {
   "cell_type": "code",
   "execution_count": 32,
   "metadata": {},
   "outputs": [
    {
     "data": {
      "text/plain": [
       "'Chris Hemsworth'"
      ]
     },
     "execution_count": 32,
     "metadata": {},
     "output_type": "execute_result"
    }
   ],
   "source": [
    "#сначала фильтруем группируем фильмы 2012 года по \"комбинированным\" актерам с подсчетом суммы кассовых сборов\n",
    "#это сократит количество строк для дальнейшей обработки  \n",
    "grouped_data = data[data.release_year == 2012].groupby('cast')['revenue'].sum()\n",
    "\n",
    "#в цикле проходим полученный датафрейм. Считаем суммсу сборов по каждому актеру отдельно и заполненяем словарь \n",
    "count_movies = {}\n",
    "\n",
    "for key, value in grouped_data.items():\n",
    "    \n",
    "    actors = key.split('|')\n",
    "\n",
    "    for actor in actors:\n",
    "        if actor in count_movies:\n",
    "            count_movies[actor] += value            \n",
    "        else:\n",
    "            count_movies.setdefault(actor, value)  \n",
    "\n",
    "#вычислим актера с максимальной суммой кассовых сборов в серии, созданной из словаря             \n",
    "answers['15'] = pd.Series(count_movies).sort_values(ascending = False).head(1).index[0]\n",
    "answers['15']"
   ]
  },
  {
   "cell_type": "markdown",
   "metadata": {
    "colab_type": "text",
    "id": "mWHyyL7QVp_j"
   },
   "source": [
    "# 16. Какой актер снялся в большем количестве высокобюджетных фильмов?"
   ]
  },
  {
   "cell_type": "code",
   "execution_count": 33,
   "metadata": {},
   "outputs": [
    {
     "data": {
      "text/plain": [
       "'Matt Damon'"
      ]
     },
     "execution_count": 33,
     "metadata": {},
     "output_type": "execute_result"
    }
   ],
   "source": [
    "#сначала группируем фильмы с бюджетом выше среднего по \"комбинированным\" актерам \n",
    "#это сократит количество строк для дальнейшей обработки \n",
    "grouped_data = data[data.budget > data.budget.mean()].groupby('cast')['imdb_id'].count()\n",
    "\n",
    "#в цикле проходим полученный датафрейм. Считаем количество фильмов по каждому актеру отдельно и заполненяем словарь\n",
    "count_movies = {}\n",
    "\n",
    "for key, value in grouped_data.items():\n",
    "    \n",
    "    actors = key.split('|')\n",
    "\n",
    "    for actor in actors:\n",
    "        \n",
    "        if actor in count_movies:\n",
    "            count_movies[actor] += value            \n",
    "        else:\n",
    "            count_movies.setdefault(actor, value)  \n",
    "\n",
    "#вычислим актера с максимальным количеством фильмов в серии, созданной из словаря   \n",
    "answers['16'] = pd.Series(count_movies).sort_values(ascending = False).head(1).index[0]\n",
    "answers['16']"
   ]
  },
  {
   "cell_type": "markdown",
   "metadata": {
    "colab_type": "text",
    "id": "NIh6AaW5Vp_n"
   },
   "source": [
    "# 17. В фильмах какого жанра больше всего снимался Nicolas Cage? "
   ]
  },
  {
   "cell_type": "code",
   "execution_count": 34,
   "metadata": {},
   "outputs": [
    {
     "data": {
      "text/plain": [
       "'Action'"
      ]
     },
     "execution_count": 34,
     "metadata": {},
     "output_type": "execute_result"
    }
   ],
   "source": [
    "#сначала группируем фильмы с Nicolas Cage по \"комбинированным\" жанрам \n",
    "#это сократит количество строк для дальнейшей обработки \n",
    "grouped_data = data[data.cast.str.contains('Nicolas Cage')]['genres'].value_counts()\n",
    "\n",
    "#в цикле проходим полученную серию. Считаем количество фильмов по каждому жанру отдельно и заполненяем словарь\n",
    "count_movies = collections.Counter()\n",
    "\n",
    "for key in grouped_data.keys():\n",
    "\n",
    "    for genre in key.split('|'):\n",
    "        count_movies[genre] += value\n",
    "            \n",
    "#вычисляем жанр с максимальным количеством фильмов\n",
    "answers['17'] = pd.Series(count_movies).sort_values(ascending = False).head(1).index[0]\n",
    "answers['17']"
   ]
  },
  {
   "cell_type": "markdown",
   "metadata": {
    "colab_type": "text",
    "id": "RqOmPRfWVp_q"
   },
   "source": [
    "# 18. Самый убыточный фильм от Paramount Pictures"
   ]
  },
  {
   "cell_type": "code",
   "execution_count": 35,
   "metadata": {},
   "outputs": [
    {
     "data": {
      "text/plain": [
       "['K-19: The Widowmaker', 'tt0267626']"
      ]
     },
     "execution_count": 35,
     "metadata": {},
     "output_type": "execute_result"
    }
   ],
   "source": [
    "#отсортируем по убыванию прибыли фильмы, содержащие \"Paramount Pictures\" в названии студии\n",
    "sorted_data = data[data.production_companies.str.contains('Paramount Pictures')].sort_values('profit')\n",
    "\n",
    "#вычислим первый фильм в списке\n",
    "answers['18'] = sorted_data.iloc[0][['original_title','imdb_id']].tolist()\n",
    "answers['18']"
   ]
  },
  {
   "cell_type": "markdown",
   "metadata": {
    "colab_type": "text",
    "id": "vS8Ur6ddVp_u"
   },
   "source": [
    "# 19. Какой год стал самым успешным по суммарным кассовым сборам?"
   ]
  },
  {
   "cell_type": "code",
   "execution_count": 36,
   "metadata": {},
   "outputs": [
    {
     "data": {
      "text/plain": [
       "2015"
      ]
     },
     "execution_count": 36,
     "metadata": {},
     "output_type": "execute_result"
    }
   ],
   "source": [
    "answers['19'] = data.groupby('release_year').sum().sort_values('revenue',ascending = False).head(1).index[0]\n",
    "answers['19']"
   ]
  },
  {
   "cell_type": "markdown",
   "metadata": {
    "colab_type": "text",
    "id": "JAzJh4QAVp_z"
   },
   "source": [
    "# 20. Какой самый прибыльный год для студии Warner Bros?"
   ]
  },
  {
   "cell_type": "code",
   "execution_count": 37,
   "metadata": {},
   "outputs": [
    {
     "data": {
      "text/plain": [
       "2014"
      ]
     },
     "execution_count": 37,
     "metadata": {},
     "output_type": "execute_result"
    }
   ],
   "source": [
    "#сгруппируем фильмы, содержащие \"Warner Bros\" в названиях студий, и посчитаем прибыль по годам\n",
    "grouped_data = data[data.production_companies.str.contains('Warner Bros')].groupby('release_year').sum()\n",
    "\n",
    "#вычислим год с максимальной прибылью\n",
    "answers['20'] = grouped_data.sort_values('profit',ascending = False).head(1).index[0]\n",
    "answers['20']"
   ]
  },
  {
   "cell_type": "markdown",
   "metadata": {
    "colab_type": "text",
    "id": "8Im1S2HRVp_4"
   },
   "source": [
    "# 21. В каком месяце за все годы суммарно вышло больше всего фильмов?"
   ]
  },
  {
   "cell_type": "code",
   "execution_count": 38,
   "metadata": {},
   "outputs": [
    {
     "data": {
      "text/plain": [
       "9"
      ]
     },
     "execution_count": 38,
     "metadata": {},
     "output_type": "execute_result"
    }
   ],
   "source": [
    "answers['21'] = data.release_month.value_counts().head(1).index[0]\n",
    "answers['21']"
   ]
  },
  {
   "cell_type": "markdown",
   "metadata": {
    "colab_type": "text",
    "id": "uAJsZ_NeVp_7"
   },
   "source": [
    "# 22. Сколько суммарно вышло фильмов летом? (за июнь, июль, август)"
   ]
  },
  {
   "cell_type": "code",
   "execution_count": 39,
   "metadata": {},
   "outputs": [
    {
     "data": {
      "text/plain": [
       "450"
      ]
     },
     "execution_count": 39,
     "metadata": {},
     "output_type": "execute_result"
    }
   ],
   "source": [
    "answers['22'] = data.release_month.value_counts().loc[[6,7,8]].sum()\n",
    "answers['22']"
   ]
  },
  {
   "cell_type": "markdown",
   "metadata": {
    "colab_type": "text",
    "id": "G94ppOY1VqAA"
   },
   "source": [
    "# 23. Для какого режиссера зима – самое продуктивное время года? "
   ]
  },
  {
   "cell_type": "code",
   "execution_count": 40,
   "metadata": {
    "scrolled": true
   },
   "outputs": [
    {
     "data": {
      "text/plain": [
       "'Peter Jackson'"
      ]
     },
     "execution_count": 40,
     "metadata": {},
     "output_type": "execute_result"
    }
   ],
   "source": [
    "#сначала группируем фильмы с сезоном релиза ЗИМА по \"комбинированным\" режиссерам \n",
    "#это сократит количество строк для дальнейшей обработки \n",
    "grouped_data = data[data.release_season == 'winter'].groupby('director')['imdb_id'].count()\n",
    "\n",
    "#в цикле проходим полученный датафрейм. Считаем количество фильмов по каждому режиссеру отдельно и заносим в словарь\n",
    "count_movies = {}\n",
    "\n",
    "for key, value in grouped_data.items():\n",
    "    \n",
    "    directors = (key.split('|'))\n",
    "    \n",
    "    for director in directors:\n",
    "        \n",
    "        if director in count_movies:\n",
    "            count_movies[director] += value\n",
    "        else:\n",
    "            count_movies[director] = value\n",
    "\n",
    "#превращаем словарь в серию и вычисляем режиссера с максимальным количеством фильмов\n",
    "answers['23'] = pd.Series(count_movies).sort_values(ascending = False).index[0]\n",
    "answers['23']"
   ]
  },
  {
   "cell_type": "markdown",
   "metadata": {
    "colab_type": "text",
    "id": "RBo0JVjVVqAF"
   },
   "source": [
    "# 24. Какая студия дает самые длинные названия своим фильмам по количеству символов?"
   ]
  },
  {
   "cell_type": "code",
   "execution_count": 41,
   "metadata": {
    "colab": {},
    "colab_type": "code",
    "id": "QRGS8L0iVqAG"
   },
   "outputs": [
    {
     "data": {
      "text/plain": [
       "'Four By Two Productions'"
      ]
     },
     "execution_count": 41,
     "metadata": {},
     "output_type": "execute_result"
    }
   ],
   "source": [
    "#сформируем и заполним словарь с длинами фильмов по каждой студии\n",
    "title_length = {}\n",
    "\n",
    "for index, row in data.iterrows():\n",
    "    \n",
    "    companies = row['production_companies'].split('|')\n",
    "    \n",
    "    for company in companies:\n",
    "        \n",
    "        if company in title_length:\n",
    "            title_length[company].append(len(row['original_title']))\n",
    "        else:\n",
    "            title_length[company] = [len(row['original_title'])]    \n",
    "\n",
    "#сформируем датафрейм из полученного словаря и добавим вычисляемый столбец со средней длиной названий по каждой студии\n",
    "movies_length_df = pd.DataFrame(pd.Series(title_length),columns = ['movies_length'])\n",
    "movies_length_df['movies_mean_length'] = movies_length_df.movies_length.apply(lambda x: sum(x)/len(x))\n",
    "\n",
    "#вычислим студию с максимальной средней длиной фильма\n",
    "answers['24'] = movies_length_df.sort_values('movies_mean_length',ascending = False).head(1).index[0]\n",
    "answers['24']"
   ]
  },
  {
   "cell_type": "markdown",
   "metadata": {
    "colab_type": "text",
    "id": "9G0hbvR7VqAK"
   },
   "source": [
    "# 25. Описание фильмов какой студии в среднем самые длинные по количеству слов?"
   ]
  },
  {
   "cell_type": "code",
   "execution_count": 42,
   "metadata": {
    "colab": {},
    "colab_type": "code",
    "id": "Ge2GsLNxVqAK"
   },
   "outputs": [
    {
     "data": {
      "text/plain": [
       "'Midnight Picture Show'"
      ]
     },
     "execution_count": 42,
     "metadata": {},
     "output_type": "execute_result"
    }
   ],
   "source": [
    "#сформируем и заполним словарь с количествами слов в описании фильмов по каждой студии\n",
    "overview_length = {}\n",
    "\n",
    "for index, row in data.iterrows():\n",
    "    \n",
    "    companies = row['production_companies'].split('|')\n",
    "\n",
    "    for company in companies:\n",
    "        \n",
    "        if company in overview_length:\n",
    "            overview_length[company].append(len(row['overview'].split(' ')))\n",
    "        else:\n",
    "            overview_length[company] = [len(row['overview'].split(' '))]    \n",
    "        \n",
    "#сформируем датафрейм из полученного словаря и добавим столбец со средним количеством слов по каждой студии\n",
    "new_df = pd.DataFrame(pd.Series(overview_length),columns = ['overview_length'])\n",
    "new_df['overview_mean_length'] = new_df.overview_length.apply(lambda x: sum(x)/len(x))\n",
    "\n",
    "#вычислим студию с максимальной количеством слов в описании фильма\n",
    "answers['25'] = new_df.sort_values('overview_mean_length',ascending = False).head(1).index[0]\n",
    "answers['25']"
   ]
  },
  {
   "cell_type": "markdown",
   "metadata": {
    "colab_type": "text",
    "id": "FJ1AFt90VqAP"
   },
   "source": [
    "# 26. Какие фильмы входят в 1 процент лучших по рейтингу? \n"
   ]
  },
  {
   "cell_type": "code",
   "execution_count": 43,
   "metadata": {
    "colab": {},
    "colab_type": "code",
    "id": "8qmJVq4CVqAQ"
   },
   "outputs": [
    {
     "data": {
      "text/plain": [
       "['12 Years a Slave',\n",
       " 'Big Hero 6',\n",
       " 'Gone Girl',\n",
       " 'Guardians of the Galaxy',\n",
       " 'Her',\n",
       " 'Inception',\n",
       " 'Inside Out',\n",
       " 'Interstellar',\n",
       " 'Memento',\n",
       " 'Room',\n",
       " 'Spotlight',\n",
       " 'The Dark Knight',\n",
       " 'The Fault in Our Stars',\n",
       " 'The Grand Budapest Hotel',\n",
       " 'The Imitation Game',\n",
       " 'The Lord of the Rings: The Return of the King',\n",
       " 'The Lord of the Rings: The Two Towers',\n",
       " 'The Pianist',\n",
       " 'The Wolf of Wall Street']"
      ]
     },
     "execution_count": 43,
     "metadata": {},
     "output_type": "execute_result"
    }
   ],
   "source": [
    "#вычисляем количество фильмов, составляющих 1% датафрейма\n",
    "quantity = len(data)*0.01\n",
    "\n",
    "#сортируем по рейтингу и выбираем первые фильмы, составляющие 1%\n",
    "result = data.sort_values('vote_average', ascending = False).head(int(quantity)+1)['original_title']\n",
    "\n",
    "answers['26'] = result.sort_values().tolist()\n",
    "answers['26']"
   ]
  },
  {
   "cell_type": "markdown",
   "metadata": {
    "colab_type": "text",
    "id": "MdXsUXbCVqAV"
   },
   "source": [
    "# 27. Какие актеры чаще всего снимаются в одном фильме вместе?\n"
   ]
  },
  {
   "cell_type": "code",
   "execution_count": 44,
   "metadata": {},
   "outputs": [
    {
     "data": {
      "text/plain": [
       "[('Daniel Radcliffe', 'Rupert Grint'), ('Daniel Radcliffe', 'Emma Watson')]"
      ]
     },
     "execution_count": 44,
     "metadata": {},
     "output_type": "execute_result"
    }
   ],
   "source": [
    "count_movies = {}\n",
    "\n",
    "#пройдемся циклом по каждому фильму\n",
    "for actors in data.cast:\n",
    "\n",
    "#вычисляем всевозможные комбинации пар актеров по фильму\n",
    "    for actor in itertools.combinations(actors.split('|'), 2):\n",
    "        \n",
    "#добавляем в словарь пару актеров и увеличиваем счетчик с количеством фильмов      \n",
    "        if actor in count_movies:\n",
    "            count_movies[actor] += 1\n",
    "        else:\n",
    "            count_movies[actor] = 1\n",
    "\n",
    "#превратим словарь в серию и вычислим ключи с максимальными значениями\n",
    "result_df = pd.Series(count_movies)\n",
    "answers['27'] = result_df[result_df == result_df.max()].keys().tolist()\n",
    "answers['27']"
   ]
  },
  {
   "cell_type": "markdown",
   "metadata": {
    "colab_type": "text",
    "id": "U0nONFnGVqAX"
   },
   "source": [
    "# Submission"
   ]
  },
  {
   "cell_type": "code",
   "execution_count": 45,
   "metadata": {
    "colab": {},
    "colab_type": "code",
    "id": "IfcaRO9-VqAX",
    "outputId": "0f132912-32bb-4196-c98c-abfbc4ad5a5f"
   },
   "outputs": [
    {
     "data": {
      "text/plain": [
       "{'1': 'Pirates of the Caribbean: On Stranger Tides (tt1298650)',\n",
       " '2': 'Gods and Generals',\n",
       " '3': 'Winnie the Pooh',\n",
       " '4': 109.6585494970884,\n",
       " '5': 107.0,\n",
       " '6': ['Avatar', 'tt0499549'],\n",
       " '7': ['The Lone Ranger', 'tt1210819'],\n",
       " '8': 1478,\n",
       " '9': ['The Dark Knight', 'tt0468569'],\n",
       " '10': ['The Lone Ranger', 'tt1210819'],\n",
       " '11': 'Drama',\n",
       " '12': 'Drama',\n",
       " '13': 'Peter Jackson',\n",
       " '14': 'Robert Rodriguez',\n",
       " '15': 'Chris Hemsworth',\n",
       " '16': 'Matt Damon',\n",
       " '17': 'Action',\n",
       " '18': ['K-19: The Widowmaker', 'tt0267626'],\n",
       " '19': 2015,\n",
       " '20': 2014,\n",
       " '21': 9,\n",
       " '22': 450,\n",
       " '23': 'Peter Jackson',\n",
       " '24': 'Four By Two Productions',\n",
       " '25': 'Midnight Picture Show',\n",
       " '26': ['12 Years a Slave',\n",
       "  'Big Hero 6',\n",
       "  'Gone Girl',\n",
       "  'Guardians of the Galaxy',\n",
       "  'Her',\n",
       "  'Inception',\n",
       "  'Inside Out',\n",
       "  'Interstellar',\n",
       "  'Memento',\n",
       "  'Room',\n",
       "  'Spotlight',\n",
       "  'The Dark Knight',\n",
       "  'The Fault in Our Stars',\n",
       "  'The Grand Budapest Hotel',\n",
       "  'The Imitation Game',\n",
       "  'The Lord of the Rings: The Return of the King',\n",
       "  'The Lord of the Rings: The Two Towers',\n",
       "  'The Pianist',\n",
       "  'The Wolf of Wall Street'],\n",
       " '27': [('Daniel Radcliffe', 'Rupert Grint'),\n",
       "  ('Daniel Radcliffe', 'Emma Watson')]}"
      ]
     },
     "execution_count": 45,
     "metadata": {},
     "output_type": "execute_result"
    }
   ],
   "source": [
    "# в конце можно посмотреть свои ответы к каждому вопросу\n",
    "answers"
   ]
  },
  {
   "cell_type": "code",
   "execution_count": 46,
   "metadata": {
    "colab": {},
    "colab_type": "code",
    "id": "SiRmHPl8VqAd"
   },
   "outputs": [
    {
     "data": {
      "text/plain": [
       "27"
      ]
     },
     "execution_count": 46,
     "metadata": {},
     "output_type": "execute_result"
    }
   ],
   "source": [
    "# и убедиться что ни чего не пропустил)\n",
    "len(answers)"
   ]
  },
  {
   "cell_type": "code",
   "execution_count": null,
   "metadata": {
    "colab": {},
    "colab_type": "code",
    "id": "uCfuTkRbVqAg"
   },
   "outputs": [],
   "source": []
  },
  {
   "cell_type": "code",
   "execution_count": null,
   "metadata": {
    "colab": {},
    "colab_type": "code",
    "id": "Vwx3NrkSVqAl"
   },
   "outputs": [],
   "source": []
  }
 ],
 "metadata": {
  "colab": {
   "name": "Copy of [SF-DST] Movies IMBD v4.1 TEMPLATE.ipynb",
   "provenance": []
  },
  "kernelspec": {
   "display_name": "Python 3",
   "language": "python",
   "name": "python3"
  },
  "language_info": {
   "codemirror_mode": {
    "name": "ipython",
    "version": 3
   },
   "file_extension": ".py",
   "mimetype": "text/x-python",
   "name": "python",
   "nbconvert_exporter": "python",
   "pygments_lexer": "ipython3",
   "version": "3.8.3"
  }
 },
 "nbformat": 4,
 "nbformat_minor": 1
}
