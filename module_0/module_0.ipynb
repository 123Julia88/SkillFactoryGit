{
 "cells": [
  {
   "cell_type": "code",
   "execution_count": 2,
   "metadata": {},
   "outputs": [
    {
     "name": "stdout",
     "output_type": "stream",
     "text": [
      "Ваш алгоритм угадывает число в среднем за 5 попыток\n"
     ]
    },
    {
     "data": {
      "text/plain": [
       "5"
      ]
     },
     "execution_count": 2,
     "metadata": {},
     "output_type": "execute_result"
    }
   ],
   "source": [
    "import numpy as np\n",
    "\n",
    "def score_game(game_core):\n",
    "    \n",
    "    '''Запускаем игру 1000 раз, чтобы узнать, как быстро игра угадывает число'''\n",
    "    \n",
    "    count_ls = []\n",
    "    np.random.seed(1)  # фиксируем RANDOM SEED, чтобы ваш эксперимент был воспроизводим!\n",
    "    random_array = np.random.randint(1,101, size=(1000))\n",
    "    \n",
    "    for number in random_array:\n",
    "        count_ls.append(game_core(number))\n",
    "        \n",
    "    score = int(np.mean(count_ls))\n",
    "    print(f\"Ваш алгоритм угадывает число в среднем за {score} попыток\")\n",
    "    \n",
    "    return(score)\n",
    "\n",
    "\n",
    "def game_core_v3(number):\n",
    "    \n",
    "    #Ищем число в заданном диапозоне поиска методом половинного деления. \n",
    "    #Функция возвращает количество попыток на поиск загаданного числа\n",
    "    \n",
    "    predict_numbers = np.arange(1,101) #Задаем диапозон поиска\n",
    "    predict_index = int(len(predict_numbers)/2)-1 #Ищем индекс числа в середине диапозона (предполагаемое число)\n",
    "    count = 1\n",
    "\n",
    "    while number != predict_numbers[predict_index]: #Сравниваем загаданное и предполагаемое число\n",
    "\n",
    "        if number > predict_numbers[predict_index]:        \n",
    "            predict_numbers = predict_numbers[predict_index+1:] #Сокращаем диапозон, отбросив первую половину чисел\n",
    "\n",
    "        else: \n",
    "            predict_numbers = predict_numbers[:predict_index] #Сокращаем диапозон, отбросив вторую половину чисел\n",
    "\n",
    "        predict_index = int(len(predict_numbers)/2)-1 #Индекс предполагаемого числа в середине сокращенного диапозона   \n",
    "        count +=1 #Увеличиваем количество попыток\n",
    "        \n",
    "    return count    \n",
    "\n",
    "\n",
    "score_game(game_core_v3)    "
   ]
  }
 ],
 "metadata": {
  "kernelspec": {
   "display_name": "Python 3",
   "language": "python",
   "name": "python3"
  },
  "language_info": {
   "codemirror_mode": {
    "name": "ipython",
    "version": 3
   },
   "file_extension": ".py",
   "mimetype": "text/x-python",
   "name": "python",
   "nbconvert_exporter": "python",
   "pygments_lexer": "ipython3",
   "version": "3.8.3"
  }
 },
 "nbformat": 4,
 "nbformat_minor": 4
}
