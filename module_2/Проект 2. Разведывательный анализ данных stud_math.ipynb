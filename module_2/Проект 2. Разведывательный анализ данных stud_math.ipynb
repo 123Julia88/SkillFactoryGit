{
 "cells": [
  {
   "cell_type": "code",
   "execution_count": 1,
   "metadata": {},
   "outputs": [],
   "source": [
    "import pandas as pd\n",
    "import matplotlib.pyplot as plt\n",
    "import seaborn as sns\n",
    "from itertools import combinations\n",
    "from scipy.stats import ttest_ind\n"
   ]
  },
  {
   "cell_type": "code",
   "execution_count": 2,
   "metadata": {
    "scrolled": true
   },
   "outputs": [
    {
     "data": {
      "text/html": [
       "<div>\n",
       "<style scoped>\n",
       "    .dataframe tbody tr th:only-of-type {\n",
       "        vertical-align: middle;\n",
       "    }\n",
       "\n",
       "    .dataframe tbody tr th {\n",
       "        vertical-align: top;\n",
       "    }\n",
       "\n",
       "    .dataframe thead th {\n",
       "        text-align: right;\n",
       "    }\n",
       "</style>\n",
       "<table border=\"1\" class=\"dataframe\">\n",
       "  <thead>\n",
       "    <tr style=\"text-align: right;\">\n",
       "      <th></th>\n",
       "      <th>school</th>\n",
       "      <th>sex</th>\n",
       "      <th>age</th>\n",
       "      <th>address</th>\n",
       "      <th>famsize</th>\n",
       "      <th>Pstatus</th>\n",
       "      <th>Medu</th>\n",
       "      <th>Fedu</th>\n",
       "      <th>Mjob</th>\n",
       "      <th>Fjob</th>\n",
       "      <th>...</th>\n",
       "      <th>studytime, granular</th>\n",
       "      <th>higher</th>\n",
       "      <th>internet</th>\n",
       "      <th>romantic</th>\n",
       "      <th>famrel</th>\n",
       "      <th>freetime</th>\n",
       "      <th>goout</th>\n",
       "      <th>health</th>\n",
       "      <th>absences</th>\n",
       "      <th>score</th>\n",
       "    </tr>\n",
       "  </thead>\n",
       "  <tbody>\n",
       "    <tr>\n",
       "      <th>0</th>\n",
       "      <td>GP</td>\n",
       "      <td>F</td>\n",
       "      <td>18</td>\n",
       "      <td>U</td>\n",
       "      <td>NaN</td>\n",
       "      <td>A</td>\n",
       "      <td>4.0</td>\n",
       "      <td>4.0</td>\n",
       "      <td>at_home</td>\n",
       "      <td>teacher</td>\n",
       "      <td>...</td>\n",
       "      <td>-6.0</td>\n",
       "      <td>yes</td>\n",
       "      <td>NaN</td>\n",
       "      <td>no</td>\n",
       "      <td>4.0</td>\n",
       "      <td>3.0</td>\n",
       "      <td>4.0</td>\n",
       "      <td>3.0</td>\n",
       "      <td>6.0</td>\n",
       "      <td>30.0</td>\n",
       "    </tr>\n",
       "    <tr>\n",
       "      <th>1</th>\n",
       "      <td>GP</td>\n",
       "      <td>F</td>\n",
       "      <td>17</td>\n",
       "      <td>U</td>\n",
       "      <td>GT3</td>\n",
       "      <td>NaN</td>\n",
       "      <td>1.0</td>\n",
       "      <td>1.0</td>\n",
       "      <td>at_home</td>\n",
       "      <td>other</td>\n",
       "      <td>...</td>\n",
       "      <td>-6.0</td>\n",
       "      <td>yes</td>\n",
       "      <td>yes</td>\n",
       "      <td>no</td>\n",
       "      <td>5.0</td>\n",
       "      <td>3.0</td>\n",
       "      <td>3.0</td>\n",
       "      <td>3.0</td>\n",
       "      <td>4.0</td>\n",
       "      <td>30.0</td>\n",
       "    </tr>\n",
       "    <tr>\n",
       "      <th>2</th>\n",
       "      <td>GP</td>\n",
       "      <td>F</td>\n",
       "      <td>15</td>\n",
       "      <td>U</td>\n",
       "      <td>LE3</td>\n",
       "      <td>T</td>\n",
       "      <td>1.0</td>\n",
       "      <td>1.0</td>\n",
       "      <td>at_home</td>\n",
       "      <td>other</td>\n",
       "      <td>...</td>\n",
       "      <td>-6.0</td>\n",
       "      <td>yes</td>\n",
       "      <td>yes</td>\n",
       "      <td>NaN</td>\n",
       "      <td>4.0</td>\n",
       "      <td>3.0</td>\n",
       "      <td>2.0</td>\n",
       "      <td>3.0</td>\n",
       "      <td>10.0</td>\n",
       "      <td>50.0</td>\n",
       "    </tr>\n",
       "    <tr>\n",
       "      <th>3</th>\n",
       "      <td>GP</td>\n",
       "      <td>F</td>\n",
       "      <td>15</td>\n",
       "      <td>U</td>\n",
       "      <td>GT3</td>\n",
       "      <td>T</td>\n",
       "      <td>4.0</td>\n",
       "      <td>2.0</td>\n",
       "      <td>health</td>\n",
       "      <td>NaN</td>\n",
       "      <td>...</td>\n",
       "      <td>-9.0</td>\n",
       "      <td>yes</td>\n",
       "      <td>yes</td>\n",
       "      <td>yes</td>\n",
       "      <td>3.0</td>\n",
       "      <td>2.0</td>\n",
       "      <td>2.0</td>\n",
       "      <td>5.0</td>\n",
       "      <td>2.0</td>\n",
       "      <td>75.0</td>\n",
       "    </tr>\n",
       "    <tr>\n",
       "      <th>4</th>\n",
       "      <td>GP</td>\n",
       "      <td>F</td>\n",
       "      <td>16</td>\n",
       "      <td>U</td>\n",
       "      <td>GT3</td>\n",
       "      <td>T</td>\n",
       "      <td>3.0</td>\n",
       "      <td>3.0</td>\n",
       "      <td>other</td>\n",
       "      <td>other</td>\n",
       "      <td>...</td>\n",
       "      <td>-6.0</td>\n",
       "      <td>yes</td>\n",
       "      <td>no</td>\n",
       "      <td>no</td>\n",
       "      <td>4.0</td>\n",
       "      <td>3.0</td>\n",
       "      <td>2.0</td>\n",
       "      <td>5.0</td>\n",
       "      <td>4.0</td>\n",
       "      <td>50.0</td>\n",
       "    </tr>\n",
       "  </tbody>\n",
       "</table>\n",
       "<p>5 rows × 30 columns</p>\n",
       "</div>"
      ],
      "text/plain": [
       "  school sex  age address famsize Pstatus  Medu  Fedu     Mjob     Fjob  ...  \\\n",
       "0     GP   F   18       U     NaN       A   4.0   4.0  at_home  teacher  ...   \n",
       "1     GP   F   17       U     GT3     NaN   1.0   1.0  at_home    other  ...   \n",
       "2     GP   F   15       U     LE3       T   1.0   1.0  at_home    other  ...   \n",
       "3     GP   F   15       U     GT3       T   4.0   2.0   health      NaN  ...   \n",
       "4     GP   F   16       U     GT3       T   3.0   3.0    other    other  ...   \n",
       "\n",
       "  studytime, granular higher  internet  romantic  famrel freetime goout  \\\n",
       "0                -6.0    yes       NaN        no     4.0      3.0   4.0   \n",
       "1                -6.0    yes       yes        no     5.0      3.0   3.0   \n",
       "2                -6.0    yes       yes       NaN     4.0      3.0   2.0   \n",
       "3                -9.0    yes       yes       yes     3.0      2.0   2.0   \n",
       "4                -6.0    yes        no        no     4.0      3.0   2.0   \n",
       "\n",
       "  health absences score  \n",
       "0    3.0      6.0  30.0  \n",
       "1    3.0      4.0  30.0  \n",
       "2    3.0     10.0  50.0  \n",
       "3    5.0      2.0  75.0  \n",
       "4    5.0      4.0  50.0  \n",
       "\n",
       "[5 rows x 30 columns]"
      ]
     },
     "metadata": {},
     "output_type": "display_data"
    }
   ],
   "source": [
    "data = pd.read_csv('stud_math.csv')\n",
    "display(data.head())\n"
   ]
  },
  {
   "cell_type": "code",
   "execution_count": 3,
   "metadata": {},
   "outputs": [
    {
     "data": {
      "text/html": [
       "<div>\n",
       "<style scoped>\n",
       "    .dataframe tbody tr th:only-of-type {\n",
       "        vertical-align: middle;\n",
       "    }\n",
       "\n",
       "    .dataframe tbody tr th {\n",
       "        vertical-align: top;\n",
       "    }\n",
       "\n",
       "    .dataframe thead th {\n",
       "        text-align: right;\n",
       "    }\n",
       "</style>\n",
       "<table border=\"1\" class=\"dataframe\">\n",
       "  <thead>\n",
       "    <tr style=\"text-align: right;\">\n",
       "      <th></th>\n",
       "      <th>age</th>\n",
       "      <th>Medu</th>\n",
       "      <th>Fedu</th>\n",
       "      <th>traveltime</th>\n",
       "      <th>studytime</th>\n",
       "      <th>failures</th>\n",
       "      <th>studytime, granular</th>\n",
       "      <th>famrel</th>\n",
       "      <th>freetime</th>\n",
       "      <th>goout</th>\n",
       "      <th>health</th>\n",
       "      <th>absences</th>\n",
       "      <th>score</th>\n",
       "    </tr>\n",
       "  </thead>\n",
       "  <tbody>\n",
       "    <tr>\n",
       "      <th>count</th>\n",
       "      <td>395.000000</td>\n",
       "      <td>392.000000</td>\n",
       "      <td>371.000000</td>\n",
       "      <td>367.000000</td>\n",
       "      <td>388.000000</td>\n",
       "      <td>373.000000</td>\n",
       "      <td>388.000000</td>\n",
       "      <td>368.000000</td>\n",
       "      <td>384.000000</td>\n",
       "      <td>387.000000</td>\n",
       "      <td>380.000000</td>\n",
       "      <td>383.000000</td>\n",
       "      <td>389.000000</td>\n",
       "    </tr>\n",
       "    <tr>\n",
       "      <th>mean</th>\n",
       "      <td>16.696203</td>\n",
       "      <td>2.750000</td>\n",
       "      <td>2.614555</td>\n",
       "      <td>1.438692</td>\n",
       "      <td>2.038660</td>\n",
       "      <td>0.337802</td>\n",
       "      <td>-6.115979</td>\n",
       "      <td>3.937500</td>\n",
       "      <td>3.231771</td>\n",
       "      <td>3.105943</td>\n",
       "      <td>3.531579</td>\n",
       "      <td>7.279373</td>\n",
       "      <td>52.262211</td>\n",
       "    </tr>\n",
       "    <tr>\n",
       "      <th>std</th>\n",
       "      <td>1.276043</td>\n",
       "      <td>1.098127</td>\n",
       "      <td>2.228732</td>\n",
       "      <td>0.694181</td>\n",
       "      <td>0.842078</td>\n",
       "      <td>0.743135</td>\n",
       "      <td>2.526235</td>\n",
       "      <td>0.927277</td>\n",
       "      <td>0.993940</td>\n",
       "      <td>1.115896</td>\n",
       "      <td>1.396019</td>\n",
       "      <td>23.465197</td>\n",
       "      <td>22.919022</td>\n",
       "    </tr>\n",
       "    <tr>\n",
       "      <th>min</th>\n",
       "      <td>15.000000</td>\n",
       "      <td>0.000000</td>\n",
       "      <td>0.000000</td>\n",
       "      <td>1.000000</td>\n",
       "      <td>1.000000</td>\n",
       "      <td>0.000000</td>\n",
       "      <td>-12.000000</td>\n",
       "      <td>-1.000000</td>\n",
       "      <td>1.000000</td>\n",
       "      <td>1.000000</td>\n",
       "      <td>1.000000</td>\n",
       "      <td>0.000000</td>\n",
       "      <td>0.000000</td>\n",
       "    </tr>\n",
       "    <tr>\n",
       "      <th>25%</th>\n",
       "      <td>16.000000</td>\n",
       "      <td>2.000000</td>\n",
       "      <td>2.000000</td>\n",
       "      <td>1.000000</td>\n",
       "      <td>1.000000</td>\n",
       "      <td>0.000000</td>\n",
       "      <td>-6.000000</td>\n",
       "      <td>4.000000</td>\n",
       "      <td>3.000000</td>\n",
       "      <td>2.000000</td>\n",
       "      <td>3.000000</td>\n",
       "      <td>0.000000</td>\n",
       "      <td>40.000000</td>\n",
       "    </tr>\n",
       "    <tr>\n",
       "      <th>50%</th>\n",
       "      <td>17.000000</td>\n",
       "      <td>3.000000</td>\n",
       "      <td>2.000000</td>\n",
       "      <td>1.000000</td>\n",
       "      <td>2.000000</td>\n",
       "      <td>0.000000</td>\n",
       "      <td>-6.000000</td>\n",
       "      <td>4.000000</td>\n",
       "      <td>3.000000</td>\n",
       "      <td>3.000000</td>\n",
       "      <td>4.000000</td>\n",
       "      <td>4.000000</td>\n",
       "      <td>55.000000</td>\n",
       "    </tr>\n",
       "    <tr>\n",
       "      <th>75%</th>\n",
       "      <td>18.000000</td>\n",
       "      <td>4.000000</td>\n",
       "      <td>3.000000</td>\n",
       "      <td>2.000000</td>\n",
       "      <td>2.000000</td>\n",
       "      <td>0.000000</td>\n",
       "      <td>-3.000000</td>\n",
       "      <td>5.000000</td>\n",
       "      <td>4.000000</td>\n",
       "      <td>4.000000</td>\n",
       "      <td>5.000000</td>\n",
       "      <td>8.000000</td>\n",
       "      <td>70.000000</td>\n",
       "    </tr>\n",
       "    <tr>\n",
       "      <th>max</th>\n",
       "      <td>22.000000</td>\n",
       "      <td>4.000000</td>\n",
       "      <td>40.000000</td>\n",
       "      <td>4.000000</td>\n",
       "      <td>4.000000</td>\n",
       "      <td>3.000000</td>\n",
       "      <td>-3.000000</td>\n",
       "      <td>5.000000</td>\n",
       "      <td>5.000000</td>\n",
       "      <td>5.000000</td>\n",
       "      <td>5.000000</td>\n",
       "      <td>385.000000</td>\n",
       "      <td>100.000000</td>\n",
       "    </tr>\n",
       "  </tbody>\n",
       "</table>\n",
       "</div>"
      ],
      "text/plain": [
       "              age        Medu        Fedu  traveltime   studytime    failures  \\\n",
       "count  395.000000  392.000000  371.000000  367.000000  388.000000  373.000000   \n",
       "mean    16.696203    2.750000    2.614555    1.438692    2.038660    0.337802   \n",
       "std      1.276043    1.098127    2.228732    0.694181    0.842078    0.743135   \n",
       "min     15.000000    0.000000    0.000000    1.000000    1.000000    0.000000   \n",
       "25%     16.000000    2.000000    2.000000    1.000000    1.000000    0.000000   \n",
       "50%     17.000000    3.000000    2.000000    1.000000    2.000000    0.000000   \n",
       "75%     18.000000    4.000000    3.000000    2.000000    2.000000    0.000000   \n",
       "max     22.000000    4.000000   40.000000    4.000000    4.000000    3.000000   \n",
       "\n",
       "       studytime, granular      famrel    freetime       goout      health  \\\n",
       "count           388.000000  368.000000  384.000000  387.000000  380.000000   \n",
       "mean             -6.115979    3.937500    3.231771    3.105943    3.531579   \n",
       "std               2.526235    0.927277    0.993940    1.115896    1.396019   \n",
       "min             -12.000000   -1.000000    1.000000    1.000000    1.000000   \n",
       "25%              -6.000000    4.000000    3.000000    2.000000    3.000000   \n",
       "50%              -6.000000    4.000000    3.000000    3.000000    4.000000   \n",
       "75%              -3.000000    5.000000    4.000000    4.000000    5.000000   \n",
       "max              -3.000000    5.000000    5.000000    5.000000    5.000000   \n",
       "\n",
       "         absences       score  \n",
       "count  383.000000  389.000000  \n",
       "mean     7.279373   52.262211  \n",
       "std     23.465197   22.919022  \n",
       "min      0.000000    0.000000  \n",
       "25%      0.000000   40.000000  \n",
       "50%      4.000000   55.000000  \n",
       "75%      8.000000   70.000000  \n",
       "max    385.000000  100.000000  "
      ]
     },
     "execution_count": 3,
     "metadata": {},
     "output_type": "execute_result"
    }
   ],
   "source": [
    "data.describe()"
   ]
  },
  {
   "cell_type": "code",
   "execution_count": 4,
   "metadata": {
    "scrolled": true
   },
   "outputs": [
    {
     "name": "stdout",
     "output_type": "stream",
     "text": [
      "<class 'pandas.core.frame.DataFrame'>\n",
      "RangeIndex: 395 entries, 0 to 394\n",
      "Data columns (total 30 columns):\n",
      " #   Column               Non-Null Count  Dtype  \n",
      "---  ------               --------------  -----  \n",
      " 0   school               395 non-null    object \n",
      " 1   sex                  395 non-null    object \n",
      " 2   age                  395 non-null    int64  \n",
      " 3   address              378 non-null    object \n",
      " 4   famsize              368 non-null    object \n",
      " 5   Pstatus              350 non-null    object \n",
      " 6   Medu                 392 non-null    float64\n",
      " 7   Fedu                 371 non-null    float64\n",
      " 8   Mjob                 376 non-null    object \n",
      " 9   Fjob                 359 non-null    object \n",
      " 10  reason               378 non-null    object \n",
      " 11  guardian             364 non-null    object \n",
      " 12  traveltime           367 non-null    float64\n",
      " 13  studytime            388 non-null    float64\n",
      " 14  failures             373 non-null    float64\n",
      " 15  schoolsup            386 non-null    object \n",
      " 16  famsup               356 non-null    object \n",
      " 17  paid                 355 non-null    object \n",
      " 18  activities           381 non-null    object \n",
      " 19  nursery              379 non-null    object \n",
      " 20  studytime, granular  388 non-null    float64\n",
      " 21  higher               375 non-null    object \n",
      " 22  internet             361 non-null    object \n",
      " 23  romantic             364 non-null    object \n",
      " 24  famrel               368 non-null    float64\n",
      " 25  freetime             384 non-null    float64\n",
      " 26  goout                387 non-null    float64\n",
      " 27  health               380 non-null    float64\n",
      " 28  absences             383 non-null    float64\n",
      " 29  score                389 non-null    float64\n",
      "dtypes: float64(12), int64(1), object(17)\n",
      "memory usage: 92.7+ KB\n"
     ]
    }
   ],
   "source": [
    "data.info()\n",
    "#в датасете 13числовых и 17 строковых столбцов"
   ]
  },
  {
   "cell_type": "code",
   "execution_count": 5,
   "metadata": {
    "scrolled": true
   },
   "outputs": [],
   "source": [
    "def view_column_info(column):\n",
    "    \n",
    "    print('\\nВ столбце {} уникальных значений {}'.format(column.name, column.nunique()))   \n",
    "    \n",
    "    if column.dtype == 'object':\n",
    "        print(column.unique())  \n",
    "        display(pd.DataFrame(column.value_counts()).style.bar(align='mid'))\n",
    "        sns.boxplot(x=column, y='score',\n",
    "               data=data[['score', column.name]])\n",
    "   \n",
    "    elif column.dtype in ['float64', 'int64']:\n",
    "        print(sorted(column.unique()))         \n",
    "        Q1 = column.quantile(0.25)\n",
    "        Q3 = column.quantile(0.75)\n",
    "        IQR = Q3-Q1\n",
    "        print('Границы выбросов [{}, {}]'.format(Q1-1.5*IQR, Q3+1.5*IQR)) \n",
    "        print(column.describe())       \n",
    "        pd.DataFrame(column[column.between(Q1-1.5*IQR, Q3+1.5*IQR)]).hist(bins=10)\n",
    "        plt.show()\n",
    "        sns.boxplot(x = column,\n",
    "                    data=pd.DataFrame(column))\n",
    "        \n",
    "    else:\n",
    "        print(\"Невозможно отразить инфо\")\n",
    "        \n",
    "    \n",
    "\n",
    "\n",
    "def remove_nan(column, new_value):\n",
    "\n",
    "    data[column] = data[column].apply(lambda x: new_value if pd.isnull(x) else x)\n",
    "    "
   ]
  },
  {
   "cell_type": "code",
   "execution_count": 6,
   "metadata": {
    "scrolled": true
   },
   "outputs": [
    {
     "name": "stdout",
     "output_type": "stream",
     "text": [
      "\n",
      "В столбце score уникальных значений 18\n",
      "[0.0, 20.0, 25.0, 30.0, 35.0, 40.0, 45.0, 50.0, 55.0, 60.0, 65.0, 70.0, 75.0, 80.0, 85.0, 90.0, 95.0, 100.0]\n",
      "Границы выбросов [-5.0, 115.0]\n",
      "count    389.000000\n",
      "mean      52.262211\n",
      "std       22.919022\n",
      "min        0.000000\n",
      "25%       40.000000\n",
      "50%       55.000000\n",
      "75%       70.000000\n",
      "max      100.000000\n",
      "Name: score, dtype: float64\n"
     ]
    },
    {
     "data": {
      "image/png": "[encoded data removed]",
      "text/plain": [
       "<Figure size 432x288 with 1 Axes>"
      ]
     },
     "metadata": {
      "needs_background": "light"
     },
     "output_type": "display_data"
    },
    {
     "data": {
      "image/png": "[encoded data removed]",
      "text/plain": [
       "<Figure size 432x288 with 1 Axes>"
      ]
     },
     "metadata": {
      "needs_background": "light"
     },
     "output_type": "display_data"
    }
   ],
   "source": [
    "#score - столбец, который мы и хотим предсказать, поэтому строки с пропусками уберем из дата сета\n",
    "#выбросов нет. Много оценок 0. Есть разрыв до ближайшей минимальной - 20 балов\n",
    "#на графике видно, что основная масса учеников получает 40-70 баллов.\n",
    "\n",
    "data = data[pd.isnull(data.score)==False]\n",
    "view_column_info(data.score)\n"
   ]
  },
  {
   "cell_type": "code",
   "execution_count": 7,
   "metadata": {
    "scrolled": true
   },
   "outputs": [
    {
     "name": "stdout",
     "output_type": "stream",
     "text": [
      "\n",
      "В столбце school уникальных значений 2\n",
      "['GP' 'MS']\n"
     ]
    },
    {
     "data": {
      "text/html": [
       "<style  type=\"text/css\" >\n",
       "    #T_f48a7e66_2bef_11eb_ad15_00e04c9354a8row0_col0 {\n",
       "            width:  10em;\n",
       "             height:  80%;\n",
       "            background:  linear-gradient(90deg,#d65f5f 100.0%, transparent 100.0%);\n",
       "        }    #T_f48a7e66_2bef_11eb_ad15_00e04c9354a8row1_col0 {\n",
       "            width:  10em;\n",
       "             height:  80%;\n",
       "            background:  linear-gradient(90deg,#d65f5f 13.1%, transparent 13.1%);\n",
       "        }</style><table id=\"T_f48a7e66_2bef_11eb_ad15_00e04c9354a8\" ><thead>    <tr>        <th class=\"blank level0\" ></th>        <th class=\"col_heading level0 col0\" >school</th>    </tr></thead><tbody>\n",
       "                <tr>\n",
       "                        <th id=\"T_f48a7e66_2bef_11eb_ad15_00e04c9354a8level0_row0\" class=\"row_heading level0 row0\" >GP</th>\n",
       "                        <td id=\"T_f48a7e66_2bef_11eb_ad15_00e04c9354a8row0_col0\" class=\"data row0 col0\" >344</td>\n",
       "            </tr>\n",
       "            <tr>\n",
       "                        <th id=\"T_f48a7e66_2bef_11eb_ad15_00e04c9354a8level0_row1\" class=\"row_heading level0 row1\" >MS</th>\n",
       "                        <td id=\"T_f48a7e66_2bef_11eb_ad15_00e04c9354a8row1_col0\" class=\"data row1 col0\" >45</td>\n",
       "            </tr>\n",
       "    </tbody></table>"
      ],
      "text/plain": [
       "<pandas.io.formats.style.Styler at 0x176e5aca2e0>"
      ]
     },
     "metadata": {},
     "output_type": "display_data"
    },
    {
     "data": {
      "image/png": "[encoded data removed]",
      "text/plain": [
       "<Figure size 432x288 with 1 Axes>"
      ]
     },
     "metadata": {
      "needs_background": "light"
     },
     "output_type": "display_data"
    }
   ],
   "source": [
    "#school в столбце нет пустот. В школе GP учащихся больше (либо просто по ним больше статистики)\n",
    "#средние показатели не сильно отличаются, в левой немного выше серединное значение. В правой наблюдается выброс\n",
    "\n",
    "view_column_info(data.school)"
   ]
  },
  {
   "cell_type": "code",
   "execution_count": 8,
   "metadata": {
    "scrolled": true
   },
   "outputs": [
    {
     "name": "stdout",
     "output_type": "stream",
     "text": [
      "\n",
      "В столбце sex уникальных значений 2\n",
      "['F' 'M']\n"
     ]
    },
    {
     "data": {
      "text/html": [
       "<style  type=\"text/css\" >\n",
       "    #T_f4aa5546_2bef_11eb_a932_00e04c9354a8row0_col0 {\n",
       "            width:  10em;\n",
       "             height:  80%;\n",
       "            background:  linear-gradient(90deg,#d65f5f 100.0%, transparent 100.0%);\n",
       "        }    #T_f4aa5546_2bef_11eb_a932_00e04c9354a8row1_col0 {\n",
       "            width:  10em;\n",
       "             height:  80%;\n",
       "            background:  linear-gradient(90deg,#d65f5f 90.7%, transparent 90.7%);\n",
       "        }</style><table id=\"T_f4aa5546_2bef_11eb_a932_00e04c9354a8\" ><thead>    <tr>        <th class=\"blank level0\" ></th>        <th class=\"col_heading level0 col0\" >sex</th>    </tr></thead><tbody>\n",
       "                <tr>\n",
       "                        <th id=\"T_f4aa5546_2bef_11eb_a932_00e04c9354a8level0_row0\" class=\"row_heading level0 row0\" >F</th>\n",
       "                        <td id=\"T_f4aa5546_2bef_11eb_a932_00e04c9354a8row0_col0\" class=\"data row0 col0\" >204</td>\n",
       "            </tr>\n",
       "            <tr>\n",
       "                        <th id=\"T_f4aa5546_2bef_11eb_a932_00e04c9354a8level0_row1\" class=\"row_heading level0 row1\" >M</th>\n",
       "                        <td id=\"T_f4aa5546_2bef_11eb_a932_00e04c9354a8row1_col0\" class=\"data row1 col0\" >185</td>\n",
       "            </tr>\n",
       "    </tbody></table>"
      ],
      "text/plain": [
       "<pandas.io.formats.style.Styler at 0x176e5debdc0>"
      ]
     },
     "metadata": {},
     "output_type": "display_data"
    },
    {
     "data": {
      "image/png": "[encoded data removed]",
      "text/plain": [
       "<Figure size 432x288 with 1 Axes>"
      ]
     },
     "metadata": {
      "needs_background": "light"
     },
     "output_type": "display_data"
    }
   ],
   "source": [
    "#sex учатся и мальчики и девочки, соотношение по половому признакому почти одинаковое \n",
    "#Серединное значение у обоих полов близко\n",
    "#У девочек разброс оценок ниже среднего большой, а выше среднего - наоборот, оценки кучнее\n",
    "#У мальчиков противоложная картина\n",
    "\n",
    "view_column_info(data.sex)"
   ]
  },
  {
   "cell_type": "code",
   "execution_count": 9,
   "metadata": {},
   "outputs": [
    {
     "name": "stdout",
     "output_type": "stream",
     "text": [
      "\n",
      "В столбце age уникальных значений 8\n",
      "[15, 16, 17, 18, 19, 20, 21, 22]\n",
      "Границы выбросов [13.0, 21.0]\n",
      "count    389.000000\n",
      "mean      16.673522\n",
      "std        1.265662\n",
      "min       15.000000\n",
      "25%       16.000000\n",
      "50%       17.000000\n",
      "75%       18.000000\n",
      "max       22.000000\n",
      "Name: age, dtype: float64\n"
     ]
    },
    {
     "data": {
      "image/png": "[encoded data removed]",
      "text/plain": [
       "<Figure size 432x288 with 1 Axes>"
      ]
     },
     "metadata": {
      "needs_background": "light"
     },
     "output_type": "display_data"
    },
    {
     "data": {
      "image/png": "[encoded data removed]",
      "text/plain": [
       "<Figure size 432x288 with 1 Axes>"
      ]
     },
     "metadata": {
      "needs_background": "light"
     },
     "output_type": "display_data"
    }
   ],
   "source": [
    "#age пустот нет. Есть выбросы. Больше всего учащихся в возрасте 16-18 лет, но есть аномалии  (21, 22 года). \n",
    "#С увеличением возвраста - сокращается количество учащихся. Возможно оставались на второй год?\n",
    "\n",
    "view_column_info(data.age)"
   ]
  },
  {
   "cell_type": "code",
   "execution_count": 10,
   "metadata": {
    "scrolled": true
   },
   "outputs": [
    {
     "name": "stdout",
     "output_type": "stream",
     "text": [
      "\n",
      "В столбце address уникальных значений 2\n",
      "['U' None 'R']\n"
     ]
    },
    {
     "data": {
      "text/html": [
       "<style  type=\"text/css\" >\n",
       "    #T_f5184857_2bef_11eb_aeba_00e04c9354a8row0_col0 {\n",
       "            width:  10em;\n",
       "             height:  80%;\n",
       "            background:  linear-gradient(90deg,#d65f5f 100.0%, transparent 100.0%);\n",
       "        }    #T_f5184857_2bef_11eb_aeba_00e04c9354a8row1_col0 {\n",
       "            width:  10em;\n",
       "             height:  80%;\n",
       "            background:  linear-gradient(90deg,#d65f5f 28.5%, transparent 28.5%);\n",
       "        }</style><table id=\"T_f5184857_2bef_11eb_aeba_00e04c9354a8\" ><thead>    <tr>        <th class=\"blank level0\" ></th>        <th class=\"col_heading level0 col0\" >address</th>    </tr></thead><tbody>\n",
       "                <tr>\n",
       "                        <th id=\"T_f5184857_2bef_11eb_aeba_00e04c9354a8level0_row0\" class=\"row_heading level0 row0\" >U</th>\n",
       "                        <td id=\"T_f5184857_2bef_11eb_aeba_00e04c9354a8row0_col0\" class=\"data row0 col0\" >291</td>\n",
       "            </tr>\n",
       "            <tr>\n",
       "                        <th id=\"T_f5184857_2bef_11eb_aeba_00e04c9354a8level0_row1\" class=\"row_heading level0 row1\" >R</th>\n",
       "                        <td id=\"T_f5184857_2bef_11eb_aeba_00e04c9354a8row1_col0\" class=\"data row1 col0\" >83</td>\n",
       "            </tr>\n",
       "    </tbody></table>"
      ],
      "text/plain": [
       "<pandas.io.formats.style.Styler at 0x176e6043160>"
      ]
     },
     "metadata": {},
     "output_type": "display_data"
    },
    {
     "data": {
      "image/png": "[encoded data removed]",
      "text/plain": [
       "<Figure size 432x288 with 1 Axes>"
      ]
     },
     "metadata": {
      "needs_background": "light"
     },
     "output_type": "display_data"
    }
   ],
   "source": [
    "#address заменим nan\n",
    "#учащихся с города, гораздо больше, чем тех, кто проживает за городом.\n",
    "#возможно за городом есть проблемы с доступностью школ\n",
    "#возможно загородних жителей не интересует обучение из-за других интересов/потребностей\n",
    "\n",
    "remove_nan('address', None)\n",
    "view_column_info(data.address)"
   ]
  },
  {
   "cell_type": "code",
   "execution_count": 11,
   "metadata": {
    "scrolled": false
   },
   "outputs": [
    {
     "name": "stdout",
     "output_type": "stream",
     "text": [
      "\n",
      "В столбце famsize уникальных значений 2\n",
      "[None 'GT3' 'LE3']\n"
     ]
    },
    {
     "data": {
      "text/html": [
       "<style  type=\"text/css\" >\n",
       "    #T_f549c196_2bef_11eb_9759_00e04c9354a8row0_col0 {\n",
       "            width:  10em;\n",
       "             height:  80%;\n",
       "            background:  linear-gradient(90deg,#d65f5f 100.0%, transparent 100.0%);\n",
       "        }    #T_f549c196_2bef_11eb_9759_00e04c9354a8row1_col0 {\n",
       "            width:  10em;\n",
       "             height:  80%;\n",
       "            background:  linear-gradient(90deg,#d65f5f 42.0%, transparent 42.0%);\n",
       "        }</style><table id=\"T_f549c196_2bef_11eb_9759_00e04c9354a8\" ><thead>    <tr>        <th class=\"blank level0\" ></th>        <th class=\"col_heading level0 col0\" >famsize</th>    </tr></thead><tbody>\n",
       "                <tr>\n",
       "                        <th id=\"T_f549c196_2bef_11eb_9759_00e04c9354a8level0_row0\" class=\"row_heading level0 row0\" >GT3</th>\n",
       "                        <td id=\"T_f549c196_2bef_11eb_9759_00e04c9354a8row0_col0\" class=\"data row0 col0\" >255</td>\n",
       "            </tr>\n",
       "            <tr>\n",
       "                        <th id=\"T_f549c196_2bef_11eb_9759_00e04c9354a8level0_row1\" class=\"row_heading level0 row1\" >LE3</th>\n",
       "                        <td id=\"T_f549c196_2bef_11eb_9759_00e04c9354a8row1_col0\" class=\"data row1 col0\" >107</td>\n",
       "            </tr>\n",
       "    </tbody></table>"
      ],
      "text/plain": [
       "<pandas.io.formats.style.Styler at 0x176e5f599a0>"
      ]
     },
     "metadata": {},
     "output_type": "display_data"
    },
    {
     "data": {
      "image/png": "[encoded data removed]",
      "text/plain": [
       "<Figure size 432x288 with 1 Axes>"
      ]
     },
     "metadata": {
      "needs_background": "light"
     },
     "output_type": "display_data"
    }
   ],
   "source": [
    "#famsize заменим nan\n",
    "#больший разброс оценок у учащихся из больших семей. Среднице показатели близки\n",
    "\n",
    "remove_nan('famsize', None)\n",
    "view_column_info(data.famsize)"
   ]
  },
  {
   "cell_type": "code",
   "execution_count": 12,
   "metadata": {},
   "outputs": [
    {
     "name": "stdout",
     "output_type": "stream",
     "text": [
      "\n",
      "В столбце Pstatus уникальных значений 2\n",
      "['A' None 'T']\n"
     ]
    },
    {
     "data": {
      "text/html": [
       "<style  type=\"text/css\" >\n",
       "    #T_f5767f06_2bef_11eb_8372_00e04c9354a8row0_col0 {\n",
       "            width:  10em;\n",
       "             height:  80%;\n",
       "            background:  linear-gradient(90deg,#d65f5f 100.0%, transparent 100.0%);\n",
       "        }    #T_f5767f06_2bef_11eb_8372_00e04c9354a8row1_col0 {\n",
       "            width:  10em;\n",
       "             height:  80%;\n",
       "            background:  linear-gradient(90deg,#d65f5f 11.7%, transparent 11.7%);\n",
       "        }</style><table id=\"T_f5767f06_2bef_11eb_8372_00e04c9354a8\" ><thead>    <tr>        <th class=\"blank level0\" ></th>        <th class=\"col_heading level0 col0\" >Pstatus</th>    </tr></thead><tbody>\n",
       "                <tr>\n",
       "                        <th id=\"T_f5767f06_2bef_11eb_8372_00e04c9354a8level0_row0\" class=\"row_heading level0 row0\" >T</th>\n",
       "                        <td id=\"T_f5767f06_2bef_11eb_8372_00e04c9354a8row0_col0\" class=\"data row0 col0\" >308</td>\n",
       "            </tr>\n",
       "            <tr>\n",
       "                        <th id=\"T_f5767f06_2bef_11eb_8372_00e04c9354a8level0_row1\" class=\"row_heading level0 row1\" >A</th>\n",
       "                        <td id=\"T_f5767f06_2bef_11eb_8372_00e04c9354a8row1_col0\" class=\"data row1 col0\" >36</td>\n",
       "            </tr>\n",
       "    </tbody></table>"
      ],
      "text/plain": [
       "<pandas.io.formats.style.Styler at 0x176e61088b0>"
      ]
     },
     "metadata": {},
     "output_type": "display_data"
    },
    {
     "data": {
      "image/png": "[encoded data removed]",
      "text/plain": [
       "<Figure size 432x288 with 1 Axes>"
      ]
     },
     "metadata": {
      "needs_background": "light"
     },
     "output_type": "display_data"
    }
   ],
   "source": [
    "#Pstatus заменим nan\n",
    "#Учеников, живущих с родителями гораздо больше отдельноживущих.\n",
    "#Оценки отдельноживущих учеников имеют меньший разброс по сравнению с живущими с родителями\n",
    "#Средние показатели обоих категорий похожи\n",
    "\n",
    "remove_nan('Pstatus', None)\n",
    "view_column_info(data.Pstatus)"
   ]
  },
  {
   "cell_type": "code",
   "execution_count": 13,
   "metadata": {},
   "outputs": [
    {
     "name": "stdout",
     "output_type": "stream",
     "text": [
      "\n",
      "В столбце Medu уникальных значений 5\n",
      "[0.0, 1.0, 2.0, 3.0, 4.0]\n",
      "Границы выбросов [-1.0, 7.0]\n",
      "count    389.000000\n",
      "mean       2.768638\n",
      "std        1.090230\n",
      "min        0.000000\n",
      "25%        2.000000\n",
      "50%        3.000000\n",
      "75%        4.000000\n",
      "max        4.000000\n",
      "Name: Medu, dtype: float64\n"
     ]
    },
    {
     "data": {
      "image/png": "[encoded data removed]",
      "text/plain": [
       "<Figure size 432x288 with 1 Axes>"
      ]
     },
     "metadata": {
      "needs_background": "light"
     },
     "output_type": "display_data"
    },
    {
     "data": {
      "image/png": "[encoded data removed]",
      "text/plain": [
       "<Figure size 432x288 with 1 Axes>"
      ]
     },
     "metadata": {
      "needs_background": "light"
     },
     "output_type": "display_data"
    }
   ],
   "source": [
    "#Medu есть пустоты, выбросов нет. Заменим пустоты на медиану\n",
    "#с увеличением уровня образования матери - увеличивается количество учеников\n",
    "\n",
    "remove_nan('Medu', data.Medu.median())\n",
    "view_column_info(data.Medu)    "
   ]
  },
  {
   "cell_type": "code",
   "execution_count": 14,
   "metadata": {},
   "outputs": [
    {
     "name": "stdout",
     "output_type": "stream",
     "text": [
      "\n",
      "В столбце Fedu уникальных значений 5\n",
      "[0.0, 1.0, 2.0, 3.0, 4.0]\n",
      "Границы выбросов [0.5, 4.5]\n",
      "count    389.000000\n",
      "mean       2.557841\n",
      "std        1.059990\n",
      "min        0.000000\n",
      "25%        2.000000\n",
      "50%        3.000000\n",
      "75%        3.000000\n",
      "max        4.000000\n",
      "Name: Fedu, dtype: float64\n"
     ]
    },
    {
     "data": {
      "image/png": "[encoded data removed]",
      "text/plain": [
       "<Figure size 432x288 with 1 Axes>"
      ]
     },
     "metadata": {
      "needs_background": "light"
     },
     "output_type": "display_data"
    },
    {
     "data": {
      "text/plain": [
       "3.0    118\n",
       "2.0    105\n",
       "4.0     89\n",
       "1.0     75\n",
       "0.0      2\n",
       "Name: Fedu, dtype: int64"
      ]
     },
     "metadata": {},
     "output_type": "display_data"
    },
    {
     "data": {
      "image/png": "[encoded data removed]",
      "text/plain": [
       "<Figure size 432x288 with 1 Axes>"
      ]
     },
     "metadata": {
      "needs_background": "light"
     },
     "output_type": "display_data"
    }
   ],
   "source": [
    "#Fedu исправим несуществубщее значение 40.0, скорее всего ошибка и должно быть 4\n",
    "#заменим пустоты на медиану. Есть выбросы. В целом чаще встречаются ученики, отцы которых имею сренее образование\n",
    "\n",
    "data.Fedu = data.Fedu.apply(lambda x: 4 if x == 40 else x)\n",
    "remove_nan('Fedu', data.Fedu.median())\n",
    "view_column_info(data.Fedu)\n",
    "display(data.Fedu.value_counts())"
   ]
  },
  {
   "cell_type": "code",
   "execution_count": 15,
   "metadata": {},
   "outputs": [
    {
     "name": "stdout",
     "output_type": "stream",
     "text": [
      "\n",
      "В столбце Mjob уникальных значений 5\n",
      "['at_home' 'health' 'other' 'services' 'teacher' None]\n"
     ]
    },
    {
     "data": {
      "text/html": [
       "<style  type=\"text/css\" >\n",
       "    #T_f62fa681_2bef_11eb_bc0f_00e04c9354a8row0_col0 {\n",
       "            width:  10em;\n",
       "             height:  80%;\n",
       "            background:  linear-gradient(90deg,#d65f5f 100.0%, transparent 100.0%);\n",
       "        }    #T_f62fa681_2bef_11eb_bc0f_00e04c9354a8row1_col0 {\n",
       "            width:  10em;\n",
       "             height:  80%;\n",
       "            background:  linear-gradient(90deg,#d65f5f 77.2%, transparent 77.2%);\n",
       "        }    #T_f62fa681_2bef_11eb_bc0f_00e04c9354a8row2_col0 {\n",
       "            width:  10em;\n",
       "             height:  80%;\n",
       "            background:  linear-gradient(90deg,#d65f5f 45.7%, transparent 45.7%);\n",
       "        }    #T_f62fa681_2bef_11eb_bc0f_00e04c9354a8row3_col0 {\n",
       "            width:  10em;\n",
       "             height:  80%;\n",
       "            background:  linear-gradient(90deg,#d65f5f 43.3%, transparent 43.3%);\n",
       "        }    #T_f62fa681_2bef_11eb_bc0f_00e04c9354a8row4_col0 {\n",
       "            width:  10em;\n",
       "             height:  80%;\n",
       "            background:  linear-gradient(90deg,#d65f5f 25.2%, transparent 25.2%);\n",
       "        }</style><table id=\"T_f62fa681_2bef_11eb_bc0f_00e04c9354a8\" ><thead>    <tr>        <th class=\"blank level0\" ></th>        <th class=\"col_heading level0 col0\" >Mjob</th>    </tr></thead><tbody>\n",
       "                <tr>\n",
       "                        <th id=\"T_f62fa681_2bef_11eb_bc0f_00e04c9354a8level0_row0\" class=\"row_heading level0 row0\" >other</th>\n",
       "                        <td id=\"T_f62fa681_2bef_11eb_bc0f_00e04c9354a8row0_col0\" class=\"data row0 col0\" >127</td>\n",
       "            </tr>\n",
       "            <tr>\n",
       "                        <th id=\"T_f62fa681_2bef_11eb_bc0f_00e04c9354a8level0_row1\" class=\"row_heading level0 row1\" >services</th>\n",
       "                        <td id=\"T_f62fa681_2bef_11eb_bc0f_00e04c9354a8row1_col0\" class=\"data row1 col0\" >98</td>\n",
       "            </tr>\n",
       "            <tr>\n",
       "                        <th id=\"T_f62fa681_2bef_11eb_bc0f_00e04c9354a8level0_row2\" class=\"row_heading level0 row2\" >at_home</th>\n",
       "                        <td id=\"T_f62fa681_2bef_11eb_bc0f_00e04c9354a8row2_col0\" class=\"data row2 col0\" >58</td>\n",
       "            </tr>\n",
       "            <tr>\n",
       "                        <th id=\"T_f62fa681_2bef_11eb_bc0f_00e04c9354a8level0_row3\" class=\"row_heading level0 row3\" >teacher</th>\n",
       "                        <td id=\"T_f62fa681_2bef_11eb_bc0f_00e04c9354a8row3_col0\" class=\"data row3 col0\" >55</td>\n",
       "            </tr>\n",
       "            <tr>\n",
       "                        <th id=\"T_f62fa681_2bef_11eb_bc0f_00e04c9354a8level0_row4\" class=\"row_heading level0 row4\" >health</th>\n",
       "                        <td id=\"T_f62fa681_2bef_11eb_bc0f_00e04c9354a8row4_col0\" class=\"data row4 col0\" >32</td>\n",
       "            </tr>\n",
       "    </tbody></table>"
      ],
      "text/plain": [
       "<pandas.io.formats.style.Styler at 0x176e5f80e80>"
      ]
     },
     "metadata": {},
     "output_type": "display_data"
    },
    {
     "data": {
      "image/png": "[encoded data removed]",
      "text/plain": [
       "<Figure size 432x288 with 1 Axes>"
      ]
     },
     "metadata": {
      "needs_background": "light"
     },
     "output_type": "display_data"
    }
   ],
   "source": [
    "#Mjob заменим пустоты. \n",
    "#Количество учащихся примерно одинаковое в зависимости от сферы работы матери\n",
    "#Успеваемость лучше у учеников, чьи матери работают в сфрере здравохранения\n",
    "\n",
    "remove_nan('Mjob', None)\n",
    "view_column_info(data.Mjob)"
   ]
  },
  {
   "cell_type": "code",
   "execution_count": 16,
   "metadata": {},
   "outputs": [
    {
     "name": "stdout",
     "output_type": "stream",
     "text": [
      "\n",
      "В столбце Fjob уникальных значений 5\n",
      "['teacher' 'other' None 'health' 'services' 'at_home']\n"
     ]
    },
    {
     "data": {
      "text/html": [
       "<style  type=\"text/css\" >\n",
       "    #T_f65dec6e_2bef_11eb_917f_00e04c9354a8row0_col0 {\n",
       "            width:  10em;\n",
       "             height:  80%;\n",
       "            background:  linear-gradient(90deg,#d65f5f 100.0%, transparent 100.0%);\n",
       "        }    #T_f65dec6e_2bef_11eb_917f_00e04c9354a8row1_col0 {\n",
       "            width:  10em;\n",
       "             height:  80%;\n",
       "            background:  linear-gradient(90deg,#d65f5f 51.0%, transparent 51.0%);\n",
       "        }    #T_f65dec6e_2bef_11eb_917f_00e04c9354a8row2_col0 {\n",
       "            width:  10em;\n",
       "             height:  80%;\n",
       "            background:  linear-gradient(90deg,#d65f5f 14.9%, transparent 14.9%);\n",
       "        }    #T_f65dec6e_2bef_11eb_917f_00e04c9354a8row3_col0 {\n",
       "            width:  10em;\n",
       "             height:  80%;\n",
       "            background:  linear-gradient(90deg,#d65f5f 8.2%, transparent 8.2%);\n",
       "        }    #T_f65dec6e_2bef_11eb_917f_00e04c9354a8row4_col0 {\n",
       "            width:  10em;\n",
       "             height:  80%;\n",
       "            background:  linear-gradient(90deg,#d65f5f 7.7%, transparent 7.7%);\n",
       "        }</style><table id=\"T_f65dec6e_2bef_11eb_917f_00e04c9354a8\" ><thead>    <tr>        <th class=\"blank level0\" ></th>        <th class=\"col_heading level0 col0\" >Fjob</th>    </tr></thead><tbody>\n",
       "                <tr>\n",
       "                        <th id=\"T_f65dec6e_2bef_11eb_917f_00e04c9354a8level0_row0\" class=\"row_heading level0 row0\" >other</th>\n",
       "                        <td id=\"T_f65dec6e_2bef_11eb_917f_00e04c9354a8row0_col0\" class=\"data row0 col0\" >194</td>\n",
       "            </tr>\n",
       "            <tr>\n",
       "                        <th id=\"T_f65dec6e_2bef_11eb_917f_00e04c9354a8level0_row1\" class=\"row_heading level0 row1\" >services</th>\n",
       "                        <td id=\"T_f65dec6e_2bef_11eb_917f_00e04c9354a8row1_col0\" class=\"data row1 col0\" >99</td>\n",
       "            </tr>\n",
       "            <tr>\n",
       "                        <th id=\"T_f65dec6e_2bef_11eb_917f_00e04c9354a8level0_row2\" class=\"row_heading level0 row2\" >teacher</th>\n",
       "                        <td id=\"T_f65dec6e_2bef_11eb_917f_00e04c9354a8row2_col0\" class=\"data row2 col0\" >29</td>\n",
       "            </tr>\n",
       "            <tr>\n",
       "                        <th id=\"T_f65dec6e_2bef_11eb_917f_00e04c9354a8level0_row3\" class=\"row_heading level0 row3\" >at_home</th>\n",
       "                        <td id=\"T_f65dec6e_2bef_11eb_917f_00e04c9354a8row3_col0\" class=\"data row3 col0\" >16</td>\n",
       "            </tr>\n",
       "            <tr>\n",
       "                        <th id=\"T_f65dec6e_2bef_11eb_917f_00e04c9354a8level0_row4\" class=\"row_heading level0 row4\" >health</th>\n",
       "                        <td id=\"T_f65dec6e_2bef_11eb_917f_00e04c9354a8row4_col0\" class=\"data row4 col0\" >15</td>\n",
       "            </tr>\n",
       "    </tbody></table>"
      ],
      "text/plain": [
       "<pandas.io.formats.style.Styler at 0x176e5fe0160>"
      ]
     },
     "metadata": {},
     "output_type": "display_data"
    },
    {
     "data": {
      "image/png": "[encoded data removed]",
      "text/plain": [
       "<Figure size 432x288 with 1 Axes>"
      ]
     },
     "metadata": {
      "needs_background": "light"
     },
     "output_type": "display_data"
    }
   ],
   "source": [
    "#Fjob заменим пустоты. \n",
    "#Меньше всего учеников, чьи отцы работают на гос службе\n",
    "#Успеваемтось лучше у учеников, чьи отцы работают учителями. У остальных средние показатели одинаковы\n",
    "\n",
    "remove_nan('Fjob', None)\n",
    "view_column_info(data.Fjob)"
   ]
  },
  {
   "cell_type": "code",
   "execution_count": 17,
   "metadata": {
    "scrolled": true
   },
   "outputs": [
    {
     "name": "stdout",
     "output_type": "stream",
     "text": [
      "\n",
      "В столбце reason уникальных значений 4\n",
      "['course' 'other' 'home' 'reputation' None]\n"
     ]
    },
    {
     "data": {
      "text/html": [
       "<style  type=\"text/css\" >\n",
       "    #T_f6850448_2bef_11eb_ab25_00e04c9354a8row0_col0 {\n",
       "            width:  10em;\n",
       "             height:  80%;\n",
       "            background:  linear-gradient(90deg,#d65f5f 100.0%, transparent 100.0%);\n",
       "        }    #T_f6850448_2bef_11eb_ab25_00e04c9354a8row1_col0 {\n",
       "            width:  10em;\n",
       "             height:  80%;\n",
       "            background:  linear-gradient(90deg,#d65f5f 75.6%, transparent 75.6%);\n",
       "        }    #T_f6850448_2bef_11eb_ab25_00e04c9354a8row2_col0 {\n",
       "            width:  10em;\n",
       "             height:  80%;\n",
       "            background:  linear-gradient(90deg,#d65f5f 74.8%, transparent 74.8%);\n",
       "        }    #T_f6850448_2bef_11eb_ab25_00e04c9354a8row3_col0 {\n",
       "            width:  10em;\n",
       "             height:  80%;\n",
       "            background:  linear-gradient(90deg,#d65f5f 25.2%, transparent 25.2%);\n",
       "        }</style><table id=\"T_f6850448_2bef_11eb_ab25_00e04c9354a8\" ><thead>    <tr>        <th class=\"blank level0\" ></th>        <th class=\"col_heading level0 col0\" >reason</th>    </tr></thead><tbody>\n",
       "                <tr>\n",
       "                        <th id=\"T_f6850448_2bef_11eb_ab25_00e04c9354a8level0_row0\" class=\"row_heading level0 row0\" >course</th>\n",
       "                        <td id=\"T_f6850448_2bef_11eb_ab25_00e04c9354a8row0_col0\" class=\"data row0 col0\" >135</td>\n",
       "            </tr>\n",
       "            <tr>\n",
       "                        <th id=\"T_f6850448_2bef_11eb_ab25_00e04c9354a8level0_row1\" class=\"row_heading level0 row1\" >reputation</th>\n",
       "                        <td id=\"T_f6850448_2bef_11eb_ab25_00e04c9354a8row1_col0\" class=\"data row1 col0\" >102</td>\n",
       "            </tr>\n",
       "            <tr>\n",
       "                        <th id=\"T_f6850448_2bef_11eb_ab25_00e04c9354a8level0_row2\" class=\"row_heading level0 row2\" >home</th>\n",
       "                        <td id=\"T_f6850448_2bef_11eb_ab25_00e04c9354a8row2_col0\" class=\"data row2 col0\" >101</td>\n",
       "            </tr>\n",
       "            <tr>\n",
       "                        <th id=\"T_f6850448_2bef_11eb_ab25_00e04c9354a8level0_row3\" class=\"row_heading level0 row3\" >other</th>\n",
       "                        <td id=\"T_f6850448_2bef_11eb_ab25_00e04c9354a8row3_col0\" class=\"data row3 col0\" >34</td>\n",
       "            </tr>\n",
       "    </tbody></table>"
      ],
      "text/plain": [
       "<pandas.io.formats.style.Styler at 0x176e605c0a0>"
      ]
     },
     "metadata": {},
     "output_type": "display_data"
    },
    {
     "data": {
      "image/png": "[encoded data removed]",
      "text/plain": [
       "<Figure size 432x288 with 1 Axes>"
      ]
     },
     "metadata": {
      "needs_background": "light"
     },
     "output_type": "display_data"
    }
   ],
   "source": [
    "#reason заменим пустоты. \n",
    "#Больше всего оценок выше среднего бала в школах с хорошей репутацией, а ниже среднего у учеников, выбирающих школу ближе к дому\n",
    "#У учеников, выбирающих школу по образовательной программе,тоже преобладают оценки выше среднего, \n",
    "#но, в целом, средняя оценка ниже школ с хорошей репутаций\n",
    "\n",
    "remove_nan('reason', None)\n",
    "view_column_info(data.reason)"
   ]
  },
  {
   "cell_type": "code",
   "execution_count": 18,
   "metadata": {},
   "outputs": [
    {
     "name": "stdout",
     "output_type": "stream",
     "text": [
      "\n",
      "В столбце guardian уникальных значений 3\n",
      "['mother' 'father' 'other' None]\n"
     ]
    },
    {
     "data": {
      "text/html": [
       "<style  type=\"text/css\" >\n",
       "    #T_f6ace017_2bef_11eb_8063_00e04c9354a8row0_col0 {\n",
       "            width:  10em;\n",
       "             height:  80%;\n",
       "            background:  linear-gradient(90deg,#d65f5f 100.0%, transparent 100.0%);\n",
       "        }    #T_f6ace017_2bef_11eb_8063_00e04c9354a8row1_col0 {\n",
       "            width:  10em;\n",
       "             height:  80%;\n",
       "            background:  linear-gradient(90deg,#d65f5f 34.7%, transparent 34.7%);\n",
       "        }    #T_f6ace017_2bef_11eb_8063_00e04c9354a8row2_col0 {\n",
       "            width:  10em;\n",
       "             height:  80%;\n",
       "            background:  linear-gradient(90deg,#d65f5f 9.7%, transparent 9.7%);\n",
       "        }</style><table id=\"T_f6ace017_2bef_11eb_8063_00e04c9354a8\" ><thead>    <tr>        <th class=\"blank level0\" ></th>        <th class=\"col_heading level0 col0\" >guardian</th>    </tr></thead><tbody>\n",
       "                <tr>\n",
       "                        <th id=\"T_f6ace017_2bef_11eb_8063_00e04c9354a8level0_row0\" class=\"row_heading level0 row0\" >mother</th>\n",
       "                        <td id=\"T_f6ace017_2bef_11eb_8063_00e04c9354a8row0_col0\" class=\"data row0 col0\" >248</td>\n",
       "            </tr>\n",
       "            <tr>\n",
       "                        <th id=\"T_f6ace017_2bef_11eb_8063_00e04c9354a8level0_row1\" class=\"row_heading level0 row1\" >father</th>\n",
       "                        <td id=\"T_f6ace017_2bef_11eb_8063_00e04c9354a8row1_col0\" class=\"data row1 col0\" >86</td>\n",
       "            </tr>\n",
       "            <tr>\n",
       "                        <th id=\"T_f6ace017_2bef_11eb_8063_00e04c9354a8level0_row2\" class=\"row_heading level0 row2\" >other</th>\n",
       "                        <td id=\"T_f6ace017_2bef_11eb_8063_00e04c9354a8row2_col0\" class=\"data row2 col0\" >24</td>\n",
       "            </tr>\n",
       "    </tbody></table>"
      ],
      "text/plain": [
       "<pandas.io.formats.style.Styler at 0x176e61c8160>"
      ]
     },
     "metadata": {},
     "output_type": "display_data"
    },
    {
     "data": {
      "image/png": "[encoded data removed]",
      "text/plain": [
       "<Figure size 432x288 with 1 Axes>"
      ]
     },
     "metadata": {
      "needs_background": "light"
     },
     "output_type": "display_data"
    }
   ],
   "source": [
    "#guardian заменим пустоты. \n",
    "#Чаще всего опекуном является мать. В среднем успеваемость учеников, у обоих опекунов (и мать и отец) похожи.\n",
    "#Самая плоъхая усепваемость у тех, чей опекун находится в категории - другой\n",
    "\n",
    "remove_nan('guardian', None)\n",
    "view_column_info(data.guardian)"
   ]
  },
  {
   "cell_type": "code",
   "execution_count": 19,
   "metadata": {
    "scrolled": true
   },
   "outputs": [
    {
     "name": "stdout",
     "output_type": "stream",
     "text": [
      "\n",
      "В столбце traveltime уникальных значений 4\n",
      "[1.0, 2.0, 3.0, 4.0]\n",
      "Границы выбросов [-0.5, 3.5]\n",
      "count    389.000000\n",
      "mean       1.403599\n",
      "std        0.676625\n",
      "min        1.000000\n",
      "25%        1.000000\n",
      "50%        1.000000\n",
      "75%        2.000000\n",
      "max        4.000000\n",
      "Name: traveltime, dtype: float64\n"
     ]
    },
    {
     "data": {
      "image/png": "[encoded data removed]",
      "text/plain": [
       "<Figure size 432x288 with 1 Axes>"
      ]
     },
     "metadata": {
      "needs_background": "light"
     },
     "output_type": "display_data"
    },
    {
     "data": {
      "image/png": "[encoded data removed]",
      "text/plain": [
       "<Figure size 432x288 with 1 Axes>"
      ]
     },
     "metadata": {
      "needs_background": "light"
     },
     "output_type": "display_data"
    }
   ],
   "source": [
    "#traveltime есть выбросы. заменим пустоты. \n",
    "#Основная масса учеников тратит на дорогу в школе меньше получаса\n",
    "remove_nan('traveltime', data.traveltime.median())\n",
    "view_column_info(data.traveltime)"
   ]
  },
  {
   "cell_type": "code",
   "execution_count": 20,
   "metadata": {
    "scrolled": true
   },
   "outputs": [
    {
     "name": "stdout",
     "output_type": "stream",
     "text": [
      "\n",
      "В столбце studytime уникальных значений 4\n",
      "[1.0, 2.0, 3.0, 4.0]\n",
      "Границы выбросов [-0.5, 3.5]\n",
      "count    389.000000\n",
      "mean       2.035990\n",
      "std        0.839575\n",
      "min        1.000000\n",
      "25%        1.000000\n",
      "50%        2.000000\n",
      "75%        2.000000\n",
      "max        4.000000\n",
      "Name: studytime, dtype: float64\n"
     ]
    },
    {
     "data": {
      "image/png": "[encoded data removed]",
      "text/plain": [
       "<Figure size 432x288 with 1 Axes>"
      ]
     },
     "metadata": {
      "needs_background": "light"
     },
     "output_type": "display_data"
    },
    {
     "data": {
      "image/png": "[encoded data removed]",
      "text/plain": [
       "<Figure size 432x288 with 1 Axes>"
      ]
     },
     "metadata": {
      "needs_background": "light"
     },
     "output_type": "display_data"
    }
   ],
   "source": [
    "#studytime есть выбросы. заменим пустоты. \n",
    "#Основная масса учеников тратит на дополнительную учебу до 5 часов в неделю\n",
    "\n",
    "remove_nan('studytime', data.studytime.median())\n",
    "view_column_info(data.studytime)"
   ]
  },
  {
   "cell_type": "code",
   "execution_count": 21,
   "metadata": {
    "scrolled": true
   },
   "outputs": [
    {
     "name": "stdout",
     "output_type": "stream",
     "text": [
      "\n",
      "В столбце failures уникальных значений 4\n",
      "[0.0, 1.0, 2.0, 3.0]\n",
      "Границы выбросов [0.0, 0.0]\n",
      "count    389.000000\n",
      "mean       0.308483\n",
      "std        0.712521\n",
      "min        0.000000\n",
      "25%        0.000000\n",
      "50%        0.000000\n",
      "75%        0.000000\n",
      "max        3.000000\n",
      "Name: failures, dtype: float64\n"
     ]
    },
    {
     "data": {
      "image/png": "[encoded data removed]",
      "text/plain": [
       "<Figure size 432x288 with 1 Axes>"
      ]
     },
     "metadata": {
      "needs_background": "light"
     },
     "output_type": "display_data"
    },
    {
     "data": {
      "image/png": "[encoded data removed]",
      "text/plain": [
       "<Figure size 432x288 with 1 Axes>"
      ]
     },
     "metadata": {
      "needs_background": "light"
     },
     "output_type": "display_data"
    },
    {
     "data": {
      "text/plain": [
       "0.0    312\n",
       "1.0     48\n",
       "2.0     15\n",
       "3.0     14\n",
       "Name: failures, dtype: int64"
      ]
     },
     "execution_count": 21,
     "metadata": {},
     "output_type": "execute_result"
    },
    {
     "data": {
      "image/png": "[encoded data removed]",
      "text/plain": [
       "<Figure size 432x288 with 1 Axes>"
      ]
     },
     "metadata": {
      "needs_background": "light"
     },
     "output_type": "display_data"
    }
   ],
   "source": [
    "#failures есть выбросы. заменим пустоты. \n",
    "\n",
    "remove_nan('failures', data.failures.median())\n",
    "data.failures.hist()\n",
    "view_column_info(data.failures)\n",
    "data.failures.value_counts()"
   ]
  },
  {
   "cell_type": "code",
   "execution_count": 22,
   "metadata": {},
   "outputs": [
    {
     "name": "stdout",
     "output_type": "stream",
     "text": [
      "\n",
      "В столбце schoolsup уникальных значений 2\n",
      "['yes' 'no' None]\n"
     ]
    },
    {
     "data": {
      "text/html": [
       "<style  type=\"text/css\" >\n",
       "    #T_f7cb5a8d_2bef_11eb_a71c_00e04c9354a8row0_col0 {\n",
       "            width:  10em;\n",
       "             height:  80%;\n",
       "            background:  linear-gradient(90deg,#d65f5f 100.0%, transparent 100.0%);\n",
       "        }    #T_f7cb5a8d_2bef_11eb_a71c_00e04c9354a8row1_col0 {\n",
       "            width:  10em;\n",
       "             height:  80%;\n",
       "            background:  linear-gradient(90deg,#d65f5f 14.8%, transparent 14.8%);\n",
       "        }</style><table id=\"T_f7cb5a8d_2bef_11eb_a71c_00e04c9354a8\" ><thead>    <tr>        <th class=\"blank level0\" ></th>        <th class=\"col_heading level0 col0\" >schoolsup</th>    </tr></thead><tbody>\n",
       "                <tr>\n",
       "                        <th id=\"T_f7cb5a8d_2bef_11eb_a71c_00e04c9354a8level0_row0\" class=\"row_heading level0 row0\" >no</th>\n",
       "                        <td id=\"T_f7cb5a8d_2bef_11eb_a71c_00e04c9354a8row0_col0\" class=\"data row0 col0\" >331</td>\n",
       "            </tr>\n",
       "            <tr>\n",
       "                        <th id=\"T_f7cb5a8d_2bef_11eb_a71c_00e04c9354a8level0_row1\" class=\"row_heading level0 row1\" >yes</th>\n",
       "                        <td id=\"T_f7cb5a8d_2bef_11eb_a71c_00e04c9354a8row1_col0\" class=\"data row1 col0\" >49</td>\n",
       "            </tr>\n",
       "    </tbody></table>"
      ],
      "text/plain": [
       "<pandas.io.formats.style.Styler at 0x176e5a7faf0>"
      ]
     },
     "metadata": {},
     "output_type": "display_data"
    },
    {
     "data": {
      "image/png": "[encoded data removed]",
      "text/plain": [
       "<Figure size 432x288 with 1 Axes>"
      ]
     },
     "metadata": {
      "needs_background": "light"
     },
     "output_type": "display_data"
    }
   ],
   "source": [
    "#schoolsup заменим пустоты. Больше учеников без образовательной поддержки, их успеваемость выше\n",
    "\n",
    "remove_nan('schoolsup', None)\n",
    "view_column_info(data.schoolsup)"
   ]
  },
  {
   "cell_type": "code",
   "execution_count": 23,
   "metadata": {},
   "outputs": [
    {
     "name": "stdout",
     "output_type": "stream",
     "text": [
      "\n",
      "В столбце famsup уникальных значений 2\n",
      "['no' 'yes' None]\n"
     ]
    },
    {
     "data": {
      "text/html": [
       "<style  type=\"text/css\" >\n",
       "    #T_f7f1aefb_2bef_11eb_925a_00e04c9354a8row0_col0 {\n",
       "            width:  10em;\n",
       "             height:  80%;\n",
       "            background:  linear-gradient(90deg,#d65f5f 100.0%, transparent 100.0%);\n",
       "        }    #T_f7f1aefb_2bef_11eb_925a_00e04c9354a8row1_col0 {\n",
       "            width:  10em;\n",
       "             height:  80%;\n",
       "            background:  linear-gradient(90deg,#d65f5f 62.5%, transparent 62.5%);\n",
       "        }</style><table id=\"T_f7f1aefb_2bef_11eb_925a_00e04c9354a8\" ><thead>    <tr>        <th class=\"blank level0\" ></th>        <th class=\"col_heading level0 col0\" >famsup</th>    </tr></thead><tbody>\n",
       "                <tr>\n",
       "                        <th id=\"T_f7f1aefb_2bef_11eb_925a_00e04c9354a8level0_row0\" class=\"row_heading level0 row0\" >yes</th>\n",
       "                        <td id=\"T_f7f1aefb_2bef_11eb_925a_00e04c9354a8row0_col0\" class=\"data row0 col0\" >216</td>\n",
       "            </tr>\n",
       "            <tr>\n",
       "                        <th id=\"T_f7f1aefb_2bef_11eb_925a_00e04c9354a8level0_row1\" class=\"row_heading level0 row1\" >no</th>\n",
       "                        <td id=\"T_f7f1aefb_2bef_11eb_925a_00e04c9354a8row1_col0\" class=\"data row1 col0\" >135</td>\n",
       "            </tr>\n",
       "    </tbody></table>"
      ],
      "text/plain": [
       "<pandas.io.formats.style.Styler at 0x176e3136df0>"
      ]
     },
     "metadata": {},
     "output_type": "display_data"
    },
    {
     "data": {
      "image/png": "[encoded data removed]",
      "text/plain": [
       "<Figure size 432x288 with 1 Axes>"
      ]
     },
     "metadata": {
      "needs_background": "light"
     },
     "output_type": "display_data"
    }
   ],
   "source": [
    "#famsup заменим пустоты. Больше учеников с семейной образовательной поддержкой, \n",
    "#но  в среднем успеваемость такаяже как и у учеников без поддержки\n",
    "\n",
    "remove_nan('famsup', None)\n",
    "view_column_info(data.famsup)"
   ]
  },
  {
   "cell_type": "code",
   "execution_count": 24,
   "metadata": {
    "scrolled": true
   },
   "outputs": [
    {
     "name": "stdout",
     "output_type": "stream",
     "text": [
      "\n",
      "В столбце paid уникальных значений 2\n",
      "['no' None 'yes']\n"
     ]
    },
    {
     "data": {
      "text/html": [
       "<style  type=\"text/css\" >\n",
       "    #T_f8106092_2bef_11eb_8774_00e04c9354a8row0_col0 {\n",
       "            width:  10em;\n",
       "             height:  80%;\n",
       "            background:  linear-gradient(90deg,#d65f5f 100.0%, transparent 100.0%);\n",
       "        }    #T_f8106092_2bef_11eb_8774_00e04c9354a8row1_col0 {\n",
       "            width:  10em;\n",
       "             height:  80%;\n",
       "            background:  linear-gradient(90deg,#d65f5f 77.7%, transparent 77.7%);\n",
       "        }</style><table id=\"T_f8106092_2bef_11eb_8774_00e04c9354a8\" ><thead>    <tr>        <th class=\"blank level0\" ></th>        <th class=\"col_heading level0 col0\" >paid</th>    </tr></thead><tbody>\n",
       "                <tr>\n",
       "                        <th id=\"T_f8106092_2bef_11eb_8774_00e04c9354a8level0_row0\" class=\"row_heading level0 row0\" >no</th>\n",
       "                        <td id=\"T_f8106092_2bef_11eb_8774_00e04c9354a8row0_col0\" class=\"data row0 col0\" >197</td>\n",
       "            </tr>\n",
       "            <tr>\n",
       "                        <th id=\"T_f8106092_2bef_11eb_8774_00e04c9354a8level0_row1\" class=\"row_heading level0 row1\" >yes</th>\n",
       "                        <td id=\"T_f8106092_2bef_11eb_8774_00e04c9354a8row1_col0\" class=\"data row1 col0\" >153</td>\n",
       "            </tr>\n",
       "    </tbody></table>"
      ],
      "text/plain": [
       "<pandas.io.formats.style.Styler at 0x176e5e082b0>"
      ]
     },
     "metadata": {},
     "output_type": "display_data"
    },
    {
     "data": {
      "image/png": "[encoded data removed]",
      "text/plain": [
       "<Figure size 432x288 with 1 Axes>"
      ]
     },
     "metadata": {
      "needs_background": "light"
     },
     "output_type": "display_data"
    }
   ],
   "source": [
    "#paid заменим пустоты. Чуть меньше половины учеников платят за дополнительные занятия по математике\n",
    "#Разборс оценок у них кучнее, но средний бал не сильно отличается от остальных\n",
    "\n",
    "remove_nan('paid', None)\n",
    "view_column_info(data.paid)"
   ]
  },
  {
   "cell_type": "code",
   "execution_count": 25,
   "metadata": {},
   "outputs": [
    {
     "name": "stdout",
     "output_type": "stream",
     "text": [
      "\n",
      "В столбце activities уникальных значений 2\n",
      "['no' 'yes' None]\n"
     ]
    },
    {
     "data": {
      "text/html": [
       "<style  type=\"text/css\" >\n",
       "    #T_f8357c16_2bef_11eb_bfa7_00e04c9354a8row0_col0 {\n",
       "            width:  10em;\n",
       "             height:  80%;\n",
       "            background:  linear-gradient(90deg,#d65f5f 100.0%, transparent 100.0%);\n",
       "        }    #T_f8357c16_2bef_11eb_bfa7_00e04c9354a8row1_col0 {\n",
       "            width:  10em;\n",
       "             height:  80%;\n",
       "            background:  linear-gradient(90deg,#d65f5f 95.3%, transparent 95.3%);\n",
       "        }</style><table id=\"T_f8357c16_2bef_11eb_bfa7_00e04c9354a8\" ><thead>    <tr>        <th class=\"blank level0\" ></th>        <th class=\"col_heading level0 col0\" >activities</th>    </tr></thead><tbody>\n",
       "                <tr>\n",
       "                        <th id=\"T_f8357c16_2bef_11eb_bfa7_00e04c9354a8level0_row0\" class=\"row_heading level0 row0\" >yes</th>\n",
       "                        <td id=\"T_f8357c16_2bef_11eb_bfa7_00e04c9354a8row0_col0\" class=\"data row0 col0\" >192</td>\n",
       "            </tr>\n",
       "            <tr>\n",
       "                        <th id=\"T_f8357c16_2bef_11eb_bfa7_00e04c9354a8level0_row1\" class=\"row_heading level0 row1\" >no</th>\n",
       "                        <td id=\"T_f8357c16_2bef_11eb_bfa7_00e04c9354a8row1_col0\" class=\"data row1 col0\" >183</td>\n",
       "            </tr>\n",
       "    </tbody></table>"
      ],
      "text/plain": [
       "<pandas.io.formats.style.Styler at 0x176e59c7490>"
      ]
     },
     "metadata": {},
     "output_type": "display_data"
    },
    {
     "data": {
      "image/png": "[encoded data removed]",
      "text/plain": [
       "<Figure size 432x288 with 1 Axes>"
      ]
     },
     "metadata": {
      "needs_background": "light"
     },
     "output_type": "display_data"
    }
   ],
   "source": [
    "#activities заменим пустоты. Дополнительные внеучебные занятия посещаетп римерна половина учащихся\n",
    "#Их средний бал выше остальных учеников\n",
    "\n",
    "remove_nan('activities', None)\n",
    "view_column_info(data.activities)"
   ]
  },
  {
   "cell_type": "code",
   "execution_count": 26,
   "metadata": {
    "scrolled": true
   },
   "outputs": [
    {
     "name": "stdout",
     "output_type": "stream",
     "text": [
      "\n",
      "В столбце nursery уникальных значений 2\n",
      "['yes' 'no' None]\n"
     ]
    },
    {
     "data": {
      "text/html": [
       "<style  type=\"text/css\" >\n",
       "    #T_f85826a7_2bef_11eb_a416_00e04c9354a8row0_col0 {\n",
       "            width:  10em;\n",
       "             height:  80%;\n",
       "            background:  linear-gradient(90deg,#d65f5f 100.0%, transparent 100.0%);\n",
       "        }    #T_f85826a7_2bef_11eb_a416_00e04c9354a8row1_col0 {\n",
       "            width:  10em;\n",
       "             height:  80%;\n",
       "            background:  linear-gradient(90deg,#d65f5f 25.9%, transparent 25.9%);\n",
       "        }</style><table id=\"T_f85826a7_2bef_11eb_a416_00e04c9354a8\" ><thead>    <tr>        <th class=\"blank level0\" ></th>        <th class=\"col_heading level0 col0\" >nursery</th>    </tr></thead><tbody>\n",
       "                <tr>\n",
       "                        <th id=\"T_f85826a7_2bef_11eb_a416_00e04c9354a8level0_row0\" class=\"row_heading level0 row0\" >yes</th>\n",
       "                        <td id=\"T_f85826a7_2bef_11eb_a416_00e04c9354a8row0_col0\" class=\"data row0 col0\" >297</td>\n",
       "            </tr>\n",
       "            <tr>\n",
       "                        <th id=\"T_f85826a7_2bef_11eb_a416_00e04c9354a8level0_row1\" class=\"row_heading level0 row1\" >no</th>\n",
       "                        <td id=\"T_f85826a7_2bef_11eb_a416_00e04c9354a8row1_col0\" class=\"data row1 col0\" >77</td>\n",
       "            </tr>\n",
       "    </tbody></table>"
      ],
      "text/plain": [
       "<pandas.io.formats.style.Styler at 0x176e60beaf0>"
      ]
     },
     "metadata": {},
     "output_type": "display_data"
    },
    {
     "data": {
      "image/png": "[encoded data removed]",
      "text/plain": [
       "<Figure size 432x288 with 1 Axes>"
      ]
     },
     "metadata": {
      "needs_background": "light"
     },
     "output_type": "display_data"
    }
   ],
   "source": [
    "#nursery заменим пустоты. Большая часть учеников посещала детский сад.\n",
    "#Их средний бал не сильно превышет остальных учеников, а разброс оценок выше\n",
    "\n",
    "remove_nan('nursery', None)\n",
    "view_column_info(data.nursery)"
   ]
  },
  {
   "cell_type": "code",
   "execution_count": 27,
   "metadata": {},
   "outputs": [
    {
     "name": "stdout",
     "output_type": "stream",
     "text": [
      "\n",
      "В столбце studytime уникальных значений 4\n",
      "[1.0, 2.0, 3.0, 4.0]\n",
      "Границы выбросов [-0.5, 3.5]\n",
      "count    389.000000\n",
      "mean       2.035990\n",
      "std        0.839575\n",
      "min        1.000000\n",
      "25%        1.000000\n",
      "50%        2.000000\n",
      "75%        2.000000\n",
      "max        4.000000\n",
      "Name: studytime, dtype: float64\n"
     ]
    },
    {
     "data": {
      "image/png": "[encoded data removed]",
      "text/plain": [
       "<Figure size 432x288 with 1 Axes>"
      ]
     },
     "metadata": {
      "needs_background": "light"
     },
     "output_type": "display_data"
    },
    {
     "data": {
      "image/png": "[encoded data removed]",
      "text/plain": [
       "<Figure size 432x288 with 1 Axes>"
      ]
     },
     "metadata": {
      "needs_background": "light"
     },
     "output_type": "display_data"
    }
   ],
   "source": [
    "#studytime пропусков нет. Большинство учеников тратят меньше 5 часов в неделю на учебу вне школы\n",
    "\n",
    "view_column_info(data.studytime)"
   ]
  },
  {
   "cell_type": "code",
   "execution_count": 28,
   "metadata": {},
   "outputs": [
    {
     "name": "stdout",
     "output_type": "stream",
     "text": [
      "\n",
      "В столбце higher уникальных значений 2\n",
      "['yes' None 'no']\n"
     ]
    },
    {
     "data": {
      "text/html": [
       "<style  type=\"text/css\" >\n",
       "    #T_f8bbde48_2bef_11eb_b30d_00e04c9354a8row0_col0 {\n",
       "            width:  10em;\n",
       "             height:  80%;\n",
       "            background:  linear-gradient(90deg,#d65f5f 100.0%, transparent 100.0%);\n",
       "        }    #T_f8bbde48_2bef_11eb_b30d_00e04c9354a8row1_col0 {\n",
       "            width:  10em;\n",
       "             height:  80%;\n",
       "            background:  linear-gradient(90deg,#d65f5f 5.4%, transparent 5.4%);\n",
       "        }</style><table id=\"T_f8bbde48_2bef_11eb_b30d_00e04c9354a8\" ><thead>    <tr>        <th class=\"blank level0\" ></th>        <th class=\"col_heading level0 col0\" >higher</th>    </tr></thead><tbody>\n",
       "                <tr>\n",
       "                        <th id=\"T_f8bbde48_2bef_11eb_b30d_00e04c9354a8level0_row0\" class=\"row_heading level0 row0\" >yes</th>\n",
       "                        <td id=\"T_f8bbde48_2bef_11eb_b30d_00e04c9354a8row0_col0\" class=\"data row0 col0\" >350</td>\n",
       "            </tr>\n",
       "            <tr>\n",
       "                        <th id=\"T_f8bbde48_2bef_11eb_b30d_00e04c9354a8level0_row1\" class=\"row_heading level0 row1\" >no</th>\n",
       "                        <td id=\"T_f8bbde48_2bef_11eb_b30d_00e04c9354a8row1_col0\" class=\"data row1 col0\" >19</td>\n",
       "            </tr>\n",
       "    </tbody></table>"
      ],
      "text/plain": [
       "<pandas.io.formats.style.Styler at 0x176e612fac0>"
      ]
     },
     "metadata": {},
     "output_type": "display_data"
    },
    {
     "data": {
      "image/png": "[encoded data removed]",
      "text/plain": [
       "<Figure size 432x288 with 1 Axes>"
      ]
     },
     "metadata": {
      "needs_background": "light"
     },
     "output_type": "display_data"
    }
   ],
   "source": [
    "#higher заменим пустоты. Большинство хочет получить высшее образование. \n",
    "#Их успеваемость сильно отличается от тех кто не планирует получить высшее образование\n",
    "#Не планирующие обучаться дальше имеют самые низкие показатели, подавляющее большинство  - ниже среднего балла\n",
    "\n",
    "remove_nan('higher', None)\n",
    "view_column_info(data.higher)"
   ]
  },
  {
   "cell_type": "code",
   "execution_count": 29,
   "metadata": {},
   "outputs": [
    {
     "name": "stdout",
     "output_type": "stream",
     "text": [
      "\n",
      "В столбце internet уникальных значений 2\n",
      "[None 'yes' 'no']\n"
     ]
    },
    {
     "data": {
      "text/html": [
       "<style  type=\"text/css\" >\n",
       "    #T_f8e9119c_2bef_11eb_bf85_00e04c9354a8row0_col0 {\n",
       "            width:  10em;\n",
       "             height:  80%;\n",
       "            background:  linear-gradient(90deg,#d65f5f 100.0%, transparent 100.0%);\n",
       "        }    #T_f8e9119c_2bef_11eb_bf85_00e04c9354a8row1_col0 {\n",
       "            width:  10em;\n",
       "             height:  80%;\n",
       "            background:  linear-gradient(90deg,#d65f5f 18.3%, transparent 18.3%);\n",
       "        }</style><table id=\"T_f8e9119c_2bef_11eb_bf85_00e04c9354a8\" ><thead>    <tr>        <th class=\"blank level0\" ></th>        <th class=\"col_heading level0 col0\" >internet</th>    </tr></thead><tbody>\n",
       "                <tr>\n",
       "                        <th id=\"T_f8e9119c_2bef_11eb_bf85_00e04c9354a8level0_row0\" class=\"row_heading level0 row0\" >yes</th>\n",
       "                        <td id=\"T_f8e9119c_2bef_11eb_bf85_00e04c9354a8row0_col0\" class=\"data row0 col0\" >300</td>\n",
       "            </tr>\n",
       "            <tr>\n",
       "                        <th id=\"T_f8e9119c_2bef_11eb_bf85_00e04c9354a8level0_row1\" class=\"row_heading level0 row1\" >no</th>\n",
       "                        <td id=\"T_f8e9119c_2bef_11eb_bf85_00e04c9354a8row1_col0\" class=\"data row1 col0\" >55</td>\n",
       "            </tr>\n",
       "    </tbody></table>"
      ],
      "text/plain": [
       "<pandas.io.formats.style.Styler at 0x176e634c130>"
      ]
     },
     "metadata": {},
     "output_type": "display_data"
    },
    {
     "data": {
      "image/png": "[encoded data removed]",
      "text/plain": [
       "<Figure size 432x288 with 1 Axes>"
      ]
     },
     "metadata": {
      "needs_background": "light"
     },
     "output_type": "display_data"
    }
   ],
   "source": [
    "#internet заменим пустоты. У большинства учеников есть интернет дома \n",
    "#Разброс оценок у них выше\n",
    "#Ученики без интернета имеют чуть более низкие средние оценки, но их разброс меньше\n",
    "\n",
    "remove_nan('internet', None)\n",
    "view_column_info(data.internet)"
   ]
  },
  {
   "cell_type": "code",
   "execution_count": 30,
   "metadata": {},
   "outputs": [
    {
     "name": "stdout",
     "output_type": "stream",
     "text": [
      "\n",
      "В столбце romantic уникальных значений 2\n",
      "['no' None 'yes']\n"
     ]
    },
    {
     "data": {
      "text/html": [
       "<style  type=\"text/css\" >\n",
       "    #T_f908ade5_2bef_11eb_9de6_00e04c9354a8row0_col0 {\n",
       "            width:  10em;\n",
       "             height:  80%;\n",
       "            background:  linear-gradient(90deg,#d65f5f 100.0%, transparent 100.0%);\n",
       "        }    #T_f908ade5_2bef_11eb_9de6_00e04c9354a8row1_col0 {\n",
       "            width:  10em;\n",
       "             height:  80%;\n",
       "            background:  linear-gradient(90deg,#d65f5f 52.3%, transparent 52.3%);\n",
       "        }</style><table id=\"T_f908ade5_2bef_11eb_9de6_00e04c9354a8\" ><thead>    <tr>        <th class=\"blank level0\" ></th>        <th class=\"col_heading level0 col0\" >romantic</th>    </tr></thead><tbody>\n",
       "                <tr>\n",
       "                        <th id=\"T_f908ade5_2bef_11eb_9de6_00e04c9354a8level0_row0\" class=\"row_heading level0 row0\" >no</th>\n",
       "                        <td id=\"T_f908ade5_2bef_11eb_9de6_00e04c9354a8row0_col0\" class=\"data row0 col0\" >235</td>\n",
       "            </tr>\n",
       "            <tr>\n",
       "                        <th id=\"T_f908ade5_2bef_11eb_9de6_00e04c9354a8level0_row1\" class=\"row_heading level0 row1\" >yes</th>\n",
       "                        <td id=\"T_f908ade5_2bef_11eb_9de6_00e04c9354a8row1_col0\" class=\"data row1 col0\" >123</td>\n",
       "            </tr>\n",
       "    </tbody></table>"
      ],
      "text/plain": [
       "<pandas.io.formats.style.Styler at 0x176e60c7580>"
      ]
     },
     "metadata": {},
     "output_type": "display_data"
    },
    {
     "data": {
      "image/png": "[encoded data removed]",
      "text/plain": [
       "<Figure size 432x288 with 1 Axes>"
      ]
     },
     "metadata": {
      "needs_background": "light"
     },
     "output_type": "display_data"
    }
   ],
   "source": [
    "#romantic заменим пустоты. \n",
    "#Успеваемость учеников, состоящих в романтических отношениях, немного хуже. \n",
    "\n",
    "remove_nan('romantic', None)\n",
    "view_column_info(data.romantic)"
   ]
  },
  {
   "cell_type": "code",
   "execution_count": 31,
   "metadata": {},
   "outputs": [
    {
     "name": "stdout",
     "output_type": "stream",
     "text": [
      "\n",
      "В столбце famrel уникальных значений 5\n",
      "[1.0, 2.0, 3.0, 4.0, 5.0]\n",
      "Границы выбросов [4.0, 4.0]\n",
      "count    389.000000\n",
      "mean       3.940874\n",
      "std        0.875850\n",
      "min        1.000000\n",
      "25%        4.000000\n",
      "50%        4.000000\n",
      "75%        4.000000\n",
      "max        5.000000\n",
      "Name: famrel, dtype: float64\n"
     ]
    },
    {
     "data": {
      "image/png": "[encoded data removed]",
      "text/plain": [
       "<Figure size 432x288 with 1 Axes>"
      ]
     },
     "metadata": {
      "needs_background": "light"
     },
     "output_type": "display_data"
    },
    {
     "data": {
      "image/png": "[encoded data removed]",
      "text/plain": [
       "<Figure size 432x288 with 1 Axes>"
      ]
     },
     "metadata": {
      "needs_background": "light"
     },
     "output_type": "display_data"
    },
    {
     "data": {
      "image/png": "[encoded data removed]",
      "text/plain": [
       "<Figure size 432x288 with 1 Axes>"
      ]
     },
     "metadata": {
      "needs_background": "light"
     },
     "output_type": "display_data"
    }
   ],
   "source": [
    "#famrel заменим пустот и несуществующие значения, -1 - видимо опечатка, т.к. есть похожая категория 1 \n",
    "#Есть выбросы. У основной массы учеников семейные отношения хорошие. \n",
    "\n",
    "data.famrel = data.famrel.apply(lambda x: 1 if x == -1 else x)\n",
    "remove_nan('famrel', data.famrel.median())\n",
    "data.famrel.hist()\n",
    "view_column_info(data.famrel)"
   ]
  },
  {
   "cell_type": "code",
   "execution_count": 32,
   "metadata": {},
   "outputs": [
    {
     "name": "stdout",
     "output_type": "stream",
     "text": [
      "\n",
      "В столбце freetime уникальных значений 5\n",
      "[1.0, 2.0, 3.0, 4.0, 5.0]\n",
      "Границы выбросов [1.5, 5.5]\n",
      "count    389.000000\n",
      "mean       3.218509\n",
      "std        0.982353\n",
      "min        1.000000\n",
      "25%        3.000000\n",
      "50%        3.000000\n",
      "75%        4.000000\n",
      "max        5.000000\n",
      "Name: freetime, dtype: float64\n"
     ]
    },
    {
     "data": {
      "image/png": "[encoded data removed]",
      "text/plain": [
       "<Figure size 432x288 with 1 Axes>"
      ]
     },
     "metadata": {
      "needs_background": "light"
     },
     "output_type": "display_data"
    },
    {
     "data": {
      "image/png": "[encoded data removed]",
      "text/plain": [
       "<Figure size 432x288 with 1 Axes>"
      ]
     },
     "metadata": {
      "needs_background": "light"
     },
     "output_type": "display_data"
    }
   ],
   "source": [
    "#freetime заменим пустоты. Есть выбросы\n",
    "#У большей части учеников среднее количество свободного времени \n",
    "\n",
    "remove_nan('freetime', data.freetime.median())\n",
    "view_column_info(data.freetime)"
   ]
  },
  {
   "cell_type": "code",
   "execution_count": 33,
   "metadata": {},
   "outputs": [
    {
     "name": "stdout",
     "output_type": "stream",
     "text": [
      "\n",
      "В столбце goout уникальных значений 5\n",
      "[1.0, 2.0, 3.0, 4.0, 5.0]\n",
      "Границы выбросов [-1.0, 7.0]\n",
      "count    389.000000\n",
      "mean       3.092545\n",
      "std        1.106062\n",
      "min        1.000000\n",
      "25%        2.000000\n",
      "50%        3.000000\n",
      "75%        4.000000\n",
      "max        5.000000\n",
      "Name: goout, dtype: float64\n"
     ]
    },
    {
     "data": {
      "image/png": "[encoded data removed]",
      "text/plain": [
       "<Figure size 432x288 with 1 Axes>"
      ]
     },
     "metadata": {
      "needs_background": "light"
     },
     "output_type": "display_data"
    },
    {
     "data": {
      "image/png": "[encoded data removed]",
      "text/plain": [
       "<Figure size 432x288 with 1 Axes>"
      ]
     },
     "metadata": {
      "needs_background": "light"
     },
     "output_type": "display_data"
    }
   ],
   "source": [
    "#goout заменим пропуски. Выбросов нет. Среднее и медиана близки,заменим пропуски на медиану\n",
    "\n",
    "remove_nan('goout', data.goout.median())\n",
    "view_column_info(data.goout)"
   ]
  },
  {
   "cell_type": "code",
   "execution_count": 34,
   "metadata": {},
   "outputs": [
    {
     "name": "stdout",
     "output_type": "stream",
     "text": [
      "\n",
      "В столбце health уникальных значений 5\n",
      "[1.0, 2.0, 3.0, 4.0, 5.0]\n",
      "Границы выбросов [0.0, 8.0]\n",
      "count    389.000000\n",
      "mean       3.547558\n",
      "std        1.377629\n",
      "min        1.000000\n",
      "25%        3.000000\n",
      "50%        4.000000\n",
      "75%        5.000000\n",
      "max        5.000000\n",
      "Name: health, dtype: float64\n"
     ]
    },
    {
     "data": {
      "image/png": "[encoded data removed]",
      "text/plain": [
       "<Figure size 432x288 with 1 Axes>"
      ]
     },
     "metadata": {
      "needs_background": "light"
     },
     "output_type": "display_data"
    },
    {
     "data": {
      "image/png": "[encoded data removed]",
      "text/plain": [
       "<Figure size 432x288 with 1 Axes>"
      ]
     },
     "metadata": {
      "needs_background": "light"
     },
     "output_type": "display_data"
    }
   ],
   "source": [
    "#health есть пропуски. Выбросов нет, поэтому заменим на среднее \n",
    "\n",
    "remove_nan('health', data.health.median())\n",
    "view_column_info(data.health)"
   ]
  },
  {
   "cell_type": "code",
   "execution_count": 35,
   "metadata": {},
   "outputs": [
    {
     "name": "stdout",
     "output_type": "stream",
     "text": [
      "\n",
      "В столбце absences уникальных значений 36\n",
      "[0.0, 1.0, 2.0, 3.0, 4.0, 5.0, 6.0, 7.0, 8.0, 9.0, 10.0, 11.0, 12.0, 13.0, 14.0, 15.0, 16.0, 17.0, 18.0, 19.0, 20.0, 21.0, 22.0, 23.0, 24.0, 25.0, 26.0, 28.0, 30.0, 38.0, 40.0, 54.0, 56.0, 75.0, 212.0, 385.0]\n",
      "Границы выбросов [-12.0, 20.0]\n",
      "count    389.000000\n",
      "mean       7.226221\n",
      "std       23.284884\n",
      "min        0.000000\n",
      "25%        0.000000\n",
      "50%        4.000000\n",
      "75%        8.000000\n",
      "max      385.000000\n",
      "Name: absences, dtype: float64\n"
     ]
    },
    {
     "data": {
      "image/png": "[encoded data removed]",
      "text/plain": [
       "<Figure size 432x288 with 1 Axes>"
      ]
     },
     "metadata": {
      "needs_background": "light"
     },
     "output_type": "display_data"
    },
    {
     "data": {
      "image/png": "[encoded data removed]",
      "text/plain": [
       "<Figure size 432x288 with 1 Axes>"
      ]
     },
     "metadata": {
      "needs_background": "light"
     },
     "output_type": "display_data"
    }
   ],
   "source": [
    "#absences -  в столбце есть выбросы, а значения 212 и 385 сильно отличатся от остальных. \n",
    "#заменим nan на медиану\n",
    "\n",
    "remove_nan('absences', data.absences.median())\n",
    "view_column_info(data.absences)\n"
   ]
  },
  {
   "cell_type": "code",
   "execution_count": 36,
   "metadata": {
    "scrolled": true
   },
   "outputs": [
    {
     "data": {
      "text/plain": [
       "failures              -0.337187\n",
       "age                   -0.155726\n",
       "goout                 -0.127742\n",
       "studytime, granular   -0.115741\n",
       "health                -0.073208\n",
       "traveltime            -0.056535\n",
       "freetime               0.017481\n",
       "famrel                 0.052902\n",
       "absences               0.062642\n",
       "studytime              0.114295\n",
       "Fedu                   0.124559\n",
       "Medu                   0.209758\n",
       "score                  1.000000\n",
       "Name: score, dtype: float64"
      ]
     },
     "execution_count": 36,
     "metadata": {},
     "output_type": "execute_result"
    }
   ],
   "source": [
    "#absences и famrel скореллированы почти полностью, ислючим absences                                \n",
    "data.corr()['score'].sort_values()"
   ]
  },
  {
   "cell_type": "code",
   "execution_count": 37,
   "metadata": {},
   "outputs": [
    {
     "name": "stdout",
     "output_type": "stream",
     "text": [
      "Найдены статистически значимиые различия для колонки  address\n",
      "Найдены статистически значимиые различия для колонки  Mjob\n",
      "Найдены статистически значимиые различия для колонки  higher\n",
      "Найдены статистически значимиые различия для колонки  romantic\n"
     ]
    }
   ],
   "source": [
    "def get_stat_dif(column):\n",
    "    \n",
    "    cols = data.loc[:,column].value_counts().index[:10]\n",
    "    combinations_all = list(combinations(cols,2))\n",
    "    for comb in combinations_all:\n",
    "        if ttest_ind(data.loc[data.loc[:,column]==comb[0],'score'],\n",
    "                    data.loc[data.loc[:,column]==comb[1],'score']).pvalue \\\n",
    "        <= 0.05/len(combinations_all):\n",
    "            print('Найдены статистически значимиые различия для колонки ',column)\n",
    "            break\n",
    "\n",
    "for col in data.select_dtypes(include=['object']):\n",
    "    get_stat_dif(col)\n",
    "    "
   ]
  },
  {
   "cell_type": "code",
   "execution_count": 43,
   "metadata": {},
   "outputs": [
    {
     "data": {
      "text/html": [
       "<div>\n",
       "<style scoped>\n",
       "    .dataframe tbody tr th:only-of-type {\n",
       "        vertical-align: middle;\n",
       "    }\n",
       "\n",
       "    .dataframe tbody tr th {\n",
       "        vertical-align: top;\n",
       "    }\n",
       "\n",
       "    .dataframe thead th {\n",
       "        text-align: right;\n",
       "    }\n",
       "</style>\n",
       "<table border=\"1\" class=\"dataframe\">\n",
       "  <thead>\n",
       "    <tr style=\"text-align: right;\">\n",
       "      <th></th>\n",
       "      <th>address</th>\n",
       "      <th>Mjob</th>\n",
       "      <th>higher</th>\n",
       "      <th>romantic</th>\n",
       "      <th>schoolsup</th>\n",
       "      <th>internet</th>\n",
       "    </tr>\n",
       "  </thead>\n",
       "  <tbody>\n",
       "    <tr>\n",
       "      <th>0</th>\n",
       "      <td>U</td>\n",
       "      <td>at_home</td>\n",
       "      <td>yes</td>\n",
       "      <td>no</td>\n",
       "      <td>yes</td>\n",
       "      <td>None</td>\n",
       "    </tr>\n",
       "    <tr>\n",
       "      <th>1</th>\n",
       "      <td>U</td>\n",
       "      <td>at_home</td>\n",
       "      <td>yes</td>\n",
       "      <td>no</td>\n",
       "      <td>no</td>\n",
       "      <td>yes</td>\n",
       "    </tr>\n",
       "    <tr>\n",
       "      <th>2</th>\n",
       "      <td>U</td>\n",
       "      <td>at_home</td>\n",
       "      <td>yes</td>\n",
       "      <td>None</td>\n",
       "      <td>yes</td>\n",
       "      <td>yes</td>\n",
       "    </tr>\n",
       "    <tr>\n",
       "      <th>3</th>\n",
       "      <td>U</td>\n",
       "      <td>health</td>\n",
       "      <td>yes</td>\n",
       "      <td>yes</td>\n",
       "      <td>no</td>\n",
       "      <td>yes</td>\n",
       "    </tr>\n",
       "    <tr>\n",
       "      <th>4</th>\n",
       "      <td>U</td>\n",
       "      <td>other</td>\n",
       "      <td>yes</td>\n",
       "      <td>no</td>\n",
       "      <td>no</td>\n",
       "      <td>no</td>\n",
       "    </tr>\n",
       "    <tr>\n",
       "      <th>...</th>\n",
       "      <td>...</td>\n",
       "      <td>...</td>\n",
       "      <td>...</td>\n",
       "      <td>...</td>\n",
       "      <td>...</td>\n",
       "      <td>...</td>\n",
       "    </tr>\n",
       "    <tr>\n",
       "      <th>390</th>\n",
       "      <td>U</td>\n",
       "      <td>services</td>\n",
       "      <td>yes</td>\n",
       "      <td>no</td>\n",
       "      <td>no</td>\n",
       "      <td>no</td>\n",
       "    </tr>\n",
       "    <tr>\n",
       "      <th>391</th>\n",
       "      <td>U</td>\n",
       "      <td>services</td>\n",
       "      <td>yes</td>\n",
       "      <td>no</td>\n",
       "      <td>no</td>\n",
       "      <td>yes</td>\n",
       "    </tr>\n",
       "    <tr>\n",
       "      <th>392</th>\n",
       "      <td>R</td>\n",
       "      <td>other</td>\n",
       "      <td>None</td>\n",
       "      <td>no</td>\n",
       "      <td>None</td>\n",
       "      <td>no</td>\n",
       "    </tr>\n",
       "    <tr>\n",
       "      <th>393</th>\n",
       "      <td>R</td>\n",
       "      <td>services</td>\n",
       "      <td>yes</td>\n",
       "      <td>no</td>\n",
       "      <td>no</td>\n",
       "      <td>yes</td>\n",
       "    </tr>\n",
       "    <tr>\n",
       "      <th>394</th>\n",
       "      <td>U</td>\n",
       "      <td>other</td>\n",
       "      <td>yes</td>\n",
       "      <td>no</td>\n",
       "      <td>None</td>\n",
       "      <td>yes</td>\n",
       "    </tr>\n",
       "  </tbody>\n",
       "</table>\n",
       "<p>389 rows × 6 columns</p>\n",
       "</div>"
      ],
      "text/plain": [
       "    address      Mjob higher romantic schoolsup internet\n",
       "0         U   at_home    yes       no       yes     None\n",
       "1         U   at_home    yes       no        no      yes\n",
       "2         U   at_home    yes     None       yes      yes\n",
       "3         U    health    yes      yes        no      yes\n",
       "4         U     other    yes       no        no       no\n",
       "..      ...       ...    ...      ...       ...      ...\n",
       "390       U  services    yes       no        no       no\n",
       "391       U  services    yes       no        no      yes\n",
       "392       R     other   None       no      None       no\n",
       "393       R  services    yes       no        no      yes\n",
       "394       U     other    yes       no      None      yes\n",
       "\n",
       "[389 rows x 6 columns]"
      ]
     },
     "execution_count": 43,
     "metadata": {},
     "output_type": "execute_result"
    }
   ],
   "source": [
    "#Выводы\n",
    "#Самые важные параметры, рекомендуемые для дальнейшего построения модели:\n",
    "#результаты теста - address, Mjob, higher, romantic, также я бы посмотрела  schoolsup, internet\n",
    "#Большая взаимосвязь обнаружена от параметров failures,age,goout, studytime,Medu, Fedu, их тоже можно включить в модель                                      \n",
    "#\n",
    "data[['address','Mjob','higher','romantic','schoolsup','internet','failures','age']]\n"
   ]
  }
 ],
 "metadata": {
  "kernelspec": {
   "display_name": "Python 3",
   "language": "python",
   "name": "python3"
  },
  "language_info": {
   "codemirror_mode": {
    "name": "ipython",
    "version": 3
   },
   "file_extension": ".py",
   "mimetype": "text/x-python",
   "name": "python",
   "nbconvert_exporter": "python",
   "pygments_lexer": "ipython3",
   "version": "3.8.3"
  }
 },
 "nbformat": 4,
 "nbformat_minor": 4
}
